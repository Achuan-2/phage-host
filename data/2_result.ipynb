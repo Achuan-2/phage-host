{
 "cells": [
  {
   "cell_type": "code",
   "execution_count": null,
   "metadata": {},
   "outputs": [],
   "source": [
    "import pandas as pd\n",
    "# df1=pd.read_table('host_taxid_rank.tsv',sep='\\t')\n",
    "df2 = pd.read_table('virushostdb_phage_output3.tsv', sep='\\t')\n",
    "\n",
    "\n",
    "# df2['find_taxid']=df1['find_taxid']\n",
    "# df2['find_taxrank']=df1['find_taxrank']\n",
    "# df2.to_csv('virushostdb_phage_output.tsv',sep='\\t',index=False)\n",
    "\n",
    "df3 = df2[df2['find_name'] == df2['report_host']]\n",
    "len(df3)\n",
    "\n",
    "\n"
   ]
  },
  {
   "cell_type": "code",
   "execution_count": null,
   "metadata": {},
   "outputs": [],
   "source": [
    "df2['find_taxrank'].value_counts()\n"
   ]
  },
  {
   "cell_type": "code",
   "execution_count": null,
   "metadata": {},
   "outputs": [],
   "source": [
    "\n",
    "df3 = df2[df2['find_name'] == df2['report_host']]\n",
    "len(df3)\n"
   ]
  },
  {
   "cell_type": "code",
   "execution_count": null,
   "metadata": {},
   "outputs": [],
   "source": [
    "df2['find_taxrank'].value_counts()\n"
   ]
  },
  {
   "cell_type": "code",
   "execution_count": null,
   "metadata": {},
   "outputs": [],
   "source": [
    "df2 = df2[~(df2['find_taxrank'] == 'species group')]\n",
    "df2 = df2[~(df2['find_taxrank'] == 'family')]\n",
    "df2 = df2[~(df2['find_taxrank'] == 'class')]\n",
    "df2 = df2[~(df2['find_taxrank'] == 'order')]\n",
    "df2 = df2[~(df2['find_taxrank'] == 'genus')]"
   ]
  },
  {
   "cell_type": "code",
   "execution_count": null,
   "metadata": {},
   "outputs": [],
   "source": [
    "df2['find_taxrank'].value_counts()\n",
    "df2.to_csv('virushostdb_phage_output3.tsv',sep='\\t',index=False)"
   ]
  }
 ],
 "metadata": {
  "language_info": {
   "name": "python"
  },
  "orig_nbformat": 4
 },
 "nbformat": 4,
 "nbformat_minor": 2
}
