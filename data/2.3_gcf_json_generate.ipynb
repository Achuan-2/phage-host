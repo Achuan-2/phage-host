{
 "cells": [
  {
   "cell_type": "markdown",
   "metadata": {},
   "source": [
    "根据phage-host信息生成host_json文件"
   ]
  },
  {
   "cell_type": "code",
   "execution_count": 14,
   "metadata": {},
   "outputs": [
    {
     "name": "stderr",
     "output_type": "stream",
     "text": [
      "100%|██████████| 4577/4577 [00:00<00:00, 125671.52it/s]\n"
     ]
    }
   ],
   "source": [
    "from tqdm import tqdm\n",
    "import json\n",
    "input = 'virushostdb_output_filtered.tsv'\n",
    "host_dict = {}\n",
    "num_lines = sum(1 for line in open(input, 'r'))-1\n",
    "with open(input,mode='r',encoding='utf-8') as f:\n",
    "    f.readline()\n",
    "    for line in tqdm(f,total=num_lines):\n",
    "        line_list=line.strip().split('\\t')\n",
    "        # print(len(line_list))\n",
    "        find_lineage=line_list[14]\n",
    "        find_taxrank=line_list[13]\n",
    "        find_taxid=line_list[12]\n",
    "        assembly_level=line_list[11]\n",
    "        assembly_category=line_list[10]\n",
    "        new_gcf=line_list[9]\n",
    "        gcfs=line_list[8]\n",
    "        find_name=line_list[7]\n",
    "        host_tax_rank=line_list[6]\n",
    "        host_lineage=line_list[5]\n",
    "        host_taxid=line_list[4]\n",
    "        report_host=line_list[3]\n",
    "        if report_host not in host_dict:\n",
    "            host_dict[report_host] = {\n",
    "                'host_taxid': host_taxid,\n",
    "                'host_tax_rank': host_tax_rank,\n",
    "                'host_lineage': host_lineage,\n",
    "                'find_name':find_name,\n",
    "                'gcfs':gcfs,\n",
    "                'new_gcf':new_gcf,\n",
    "                'assembly_category':assembly_category,\n",
    "                'assembly_level':assembly_level,\n",
    "                'find_taxid':find_taxid,\n",
    "                'find_taxrank':find_taxrank,\n",
    "                'find_lineage':find_lineage,\n",
    "                }\n",
    "js = json.dumps(host_dict,indent=4)\n",
    "# fp = open('virushostdb_output_host.json', 'w')\n",
    "# fp.write(js)\n",
    "# fp.close()\n"
   ]
  },
  {
   "cell_type": "code",
   "execution_count": 15,
   "metadata": {},
   "outputs": [],
   "source": [
    "import pandas as pd\n",
    "table=[]\n",
    "line_dict={}\n",
    "for host_name in host_dict.keys():\n",
    "    line_dict={\"host_name\":host_name}\n",
    "    line_dict.update(host_dict[host_name])\n",
    "    table.append(line_dict)\n",
    "    \n",
    "df=pd.DataFrame(table)\n",
    "# df.to_csv('virushostdb_output_host.tsv', sep='\\t', index=False)\n"
   ]
  },
  {
   "cell_type": "code",
   "execution_count": 3,
   "metadata": {},
   "outputs": [
    {
     "data": {
      "text/plain": [
       "602"
      ]
     },
     "execution_count": 3,
     "metadata": {},
     "output_type": "execute_result"
    }
   ],
   "source": [
    "len(df)"
   ]
  },
  {
   "cell_type": "code",
   "execution_count": 4,
   "metadata": {},
   "outputs": [
    {
     "data": {
      "text/plain": [
       "GCF_000008865.2    25\n",
       "GCF_000006945.2     8\n",
       "GCF_022557275.1     4\n",
       "GCF_000240185.1     4\n",
       "GCF_008632635.1     4\n",
       "                   ..\n",
       "GCF_014844295.1     1\n",
       "GCF_002983865.1     1\n",
       "GCF_001886435.1     1\n",
       "GCF_001028665.1     1\n",
       "GCF_000832845.1     1\n",
       "Name: new_gcf, Length: 496, dtype: int64"
      ]
     },
     "execution_count": 4,
     "metadata": {},
     "output_type": "execute_result"
    }
   ],
   "source": [
    "df[\"new_gcf\"].value_counts()"
   ]
  },
  {
   "cell_type": "code",
   "execution_count": 4,
   "metadata": {},
   "outputs": [
    {
     "data": {
      "text/plain": [
       "species            386\n",
       "strain             138\n",
       "no rank             41\n",
       "subspecies          30\n",
       "serogroup            4\n",
       "serotype             1\n",
       "forma specialis      1\n",
       "isolate              1\n",
       "Name: find_taxrank, dtype: int64"
      ]
     },
     "execution_count": 4,
     "metadata": {},
     "output_type": "execute_result"
    }
   ],
   "source": [
    "df[\"find_taxrank\"].value_counts()"
   ]
  },
  {
   "cell_type": "code",
   "execution_count": 7,
   "metadata": {},
   "outputs": [],
   "source": [
    "df_name = df[[\"find_name\", \"new_gcf\", \"assembly_category\", \"assembly_level\",\n",
    "    \"find_taxid\", \"find_taxrank\", \"find_lineage\"]]\n",
    "name_dict = {}\n",
    "\n",
    "for i in range(df_name.shape[0]):\n",
    "    find_name = df_name.iloc[i, 0]\n",
    "    if find_name not in name_dict:\n",
    "        name_dict[find_name]={\n",
    "            'new_gcf':df_name.iloc[i,1],\n",
    "            'assembly_category':df_name.iloc[i,2],\n",
    "            'assembly_level':df_name.iloc[i,3],\n",
    "            'find_taxid':df_name.iloc[i,4],\n",
    "            'find_taxrank':df_name.iloc[i,5],\n",
    "            'find_lineage':df_name.iloc[i,6]\n",
    "        }\n",
    "    else:\n",
    "        continue\n",
    "\n",
    "js = json.dumps(name_dict, indent=4)\n",
    "fp = open('virushostdb_output_findname.json', 'w')\n",
    "fp.write(js)\n",
    "fp.close()"
   ]
  },
  {
   "cell_type": "code",
   "execution_count": 9,
   "metadata": {},
   "outputs": [],
   "source": [
    "table = []\n",
    "line_dict = {}\n",
    "for find_name in name_dict.keys():\n",
    "    line_dict = {\"find_name\": find_name}\n",
    "    line_dict.update(name_dict[find_name])\n",
    "    table.append(line_dict)\n",
    "\n",
    "df_find = pd.DataFrame(table)\n",
    "df_find.to_csv('virushostdb_output_find.tsv', sep='\\t', index=False)\n"
   ]
  },
  {
   "cell_type": "code",
   "execution_count": 11,
   "metadata": {},
   "outputs": [
    {
     "data": {
      "text/plain": [
       "GCF_000006945.2    4\n",
       "GCF_000011125.1    2\n",
       "GCF_000006765.1    2\n",
       "GCF_000009045.1    2\n",
       "GCF_000009085.1    2\n",
       "                  ..\n",
       "GCF_013282745.1    1\n",
       "GCF_000009485.1    1\n",
       "GCF_002905815.2    1\n",
       "GCF_001941405.1    1\n",
       "GCF_000832845.1    1\n",
       "Name: new_gcf, Length: 496, dtype: int64"
      ]
     },
     "execution_count": 11,
     "metadata": {},
     "output_type": "execute_result"
    }
   ],
   "source": [
    "df_find[\"new_gcf\"].value_counts()"
   ]
  },
  {
   "cell_type": "markdown",
   "metadata": {},
   "source": [
    "## 构建gcf json文件"
   ]
  },
  {
   "cell_type": "code",
   "execution_count": 21,
   "metadata": {},
   "outputs": [],
   "source": [
    "df_gcf=df[[\"new_gcf\", \"find_name\", \"assembly_category\", \"assembly_level\"]]\n",
    "\n",
    "\n",
    "gcf_dict = {}\n",
    "\n",
    "for i in range(df_gcf.shape[0]):\n",
    "    gcf = df_gcf.iloc[i, 0]\n",
    "    if gcf not in gcf_dict:\n",
    "        gcf_dict[gcf]={\n",
    "            'find_name':[df_gcf.iloc[i,1]],\n",
    "            'assembly_category':df_gcf.iloc[i,2],\n",
    "            'assembly_level':df_gcf.iloc[i,3],\n",
    "        }\n",
    "    else:\n",
    "        find_name=df_gcf.iloc[i,1]\n",
    "        if find_name not in gcf_dict[gcf]['find_name']:\n",
    "            gcf_dict[gcf]['find_name'].append(find_name)\n",
    "\n",
    "js = json.dumps(gcf_dict, indent=4)\n",
    "fp = open('virushostdb_output_gcf.json', 'w')\n",
    "fp.write(js)\n",
    "fp.close()\n"
   ]
  },
  {
   "cell_type": "code",
   "execution_count": 31,
   "metadata": {},
   "outputs": [
    {
     "name": "stdout",
     "output_type": "stream",
     "text": [
      "496\n"
     ]
    }
   ],
   "source": [
    "gcf_output=open('virushostdb_output_gcf(duplicated).tsv',mode=\"w\")\n",
    "print(len(gcf_dict))\n",
    "for gcf in gcf_dict:\n",
    "    length=len(gcf_dict[gcf]['find_name'])\n",
    "    if length >1:\n",
    "        gcf_output.write(f\"{gcf}\\t{length}\\t{gcf_dict[gcf]['find_name']}\\n\")\n",
    "gcf_output.close()"
   ]
  },
  {
   "cell_type": "markdown",
   "metadata": {},
   "source": [
    "转化为表格"
   ]
  },
  {
   "cell_type": "code",
   "execution_count": 22,
   "metadata": {},
   "outputs": [],
   "source": [
    "table = []\n",
    "line_dict = {}\n",
    "for gcf in gcf_dict.keys():\n",
    "    line_dict = {\"gcf\": gcf}\n",
    "    line_dict.update(gcf_dict[gcf])\n",
    "    table.append(line_dict)\n",
    "\n",
    "df_gcf = pd.DataFrame(table)\n",
    "df_gcf.to_csv('virushostdb_output_gcf.tsv', sep='\\t', index=False)\n"
   ]
  },
  {
   "cell_type": "code",
   "execution_count": 8,
   "metadata": {},
   "outputs": [
    {
     "data": {
      "text/plain": [
       "species            311\n",
       "strain             124\n",
       "no rank             38\n",
       "subspecies          17\n",
       "serogroup            4\n",
       "forma specialis      1\n",
       "isolate              1\n",
       "Name: find_taxrank, dtype: int64"
      ]
     },
     "execution_count": 8,
     "metadata": {},
     "output_type": "execute_result"
    }
   ],
   "source": [
    "df['find_taxrank'].value_counts()"
   ]
  },
  {
   "cell_type": "code",
   "execution_count": 9,
   "metadata": {},
   "outputs": [
    {
     "data": {
      "text/plain": [
       "species            316\n",
       "strain             162\n",
       "subspecies          17\n",
       "serogroup            4\n",
       "forma specialis      1\n",
       "isolate              1\n",
       "Name: find_taxrank, dtype: int64"
      ]
     },
     "execution_count": 9,
     "metadata": {},
     "output_type": "execute_result"
    }
   ],
   "source": [
    "df_=pd.read_table('virushostdb(non_scaffold)_gcf.tsv')\n",
    "df_['find_taxrank'].value_counts()\n"
   ]
  }
 ],
 "metadata": {
  "interpreter": {
   "hash": "3c3b1f68f84beab8382f21a915ede04862a3ee36b0db72f203c6e0d4c6345b06"
  },
  "kernelspec": {
   "display_name": "Python 3.8.5 ('base')",
   "language": "python",
   "name": "python3"
  },
  "language_info": {
   "codemirror_mode": {
    "name": "ipython",
    "version": 3
   },
   "file_extension": ".py",
   "mimetype": "text/x-python",
   "name": "python",
   "nbconvert_exporter": "python",
   "pygments_lexer": "ipython3",
   "version": "3.8.5"
  },
  "orig_nbformat": 4
 },
 "nbformat": 4,
 "nbformat_minor": 2
}
