{
 "cells": [
  {
   "cell_type": "code",
   "execution_count": 22,
   "metadata": {},
   "outputs": [
    {
     "data": {
      "text/plain": [
       "4462"
      ]
     },
     "execution_count": 22,
     "metadata": {},
     "output_type": "execute_result"
    }
   ],
   "source": [
    "import pandas as pd\n",
    "# df1=pd.read_table('host_taxid_rank.tsv',sep='\\t')\n",
    "df2 = pd.read_table('virushostdb(non_scaffold)_phage_output.tsv', sep='\\t')\n",
    "\n",
    "\n",
    "# df2['find_taxid']=df1['find_taxid']\n",
    "# df2['find_taxrank']=df1['find_taxrank']\n",
    "# df2.to_csv('virushostdb_phage_output.tsv',sep='\\t',index=False)\n",
    "\n",
    "df3 = df2[df2['find_name'] == df2['report_host']]\n",
    "len(df3)\n"
   ]
  },
  {
   "cell_type": "code",
   "execution_count": 23,
   "metadata": {},
   "outputs": [
    {
     "data": {
      "text/plain": [
       "788"
      ]
     },
     "execution_count": 23,
     "metadata": {},
     "output_type": "execute_result"
    }
   ],
   "source": [
    "len(set(df2['report_host']))\n"
   ]
  },
  {
   "cell_type": "code",
   "execution_count": 24,
   "metadata": {},
   "outputs": [
    {
     "data": {
      "text/plain": [
       "636"
      ]
     },
     "execution_count": 24,
     "metadata": {},
     "output_type": "execute_result"
    }
   ],
   "source": [
    "# host name有多少\n",
    "len(set(df2['report_host']))\n",
    "len(set(df2['find_name']))\n"
   ]
  },
  {
   "cell_type": "code",
   "execution_count": 11,
   "metadata": {},
   "outputs": [],
   "source": [
    "df_findtax = pd.read_table('host_info.tsv', sep='\\t',header=None,dtype=object)\n",
    "df_findtax.columns = ['find_name','find_taxid', 'find_taxrank',]\n",
    "df2['find_taxid']=df_findtax['find_taxid']\n",
    "df2['find_taxrank']=df_findtax['find_taxrank']\n",
    "df2.to_csv('virushostdb_phage_output(non_scaffold).tsv', sep='\\t', index=False)\n"
   ]
  },
  {
   "cell_type": "code",
   "execution_count": 12,
   "metadata": {},
   "outputs": [
    {
     "data": {
      "text/plain": [
       "species            3201\n",
       "strain             1348\n",
       "genus               358\n",
       "subspecies           77\n",
       "serogroup            11\n",
       "family               10\n",
       "species group         6\n",
       "class                 2\n",
       "isolate               1\n",
       "order                 1\n",
       "serotype              1\n",
       "forma specialis       1\n",
       "Name: find_taxrank, dtype: int64"
      ]
     },
     "execution_count": 12,
     "metadata": {},
     "output_type": "execute_result"
    }
   ],
   "source": [
    "df2['find_taxrank'].value_counts()\n"
   ]
  },
  {
   "cell_type": "code",
   "execution_count": 13,
   "metadata": {},
   "outputs": [],
   "source": [
    "df2 = df2[~(df2['find_taxrank'] == 'genus')]\n",
    "df2 = df2[~(df2['find_taxrank'] == 'family')]\n",
    "df2 = df2[~(df2['find_taxrank'] == 'species group')]\n",
    "df2 = df2[~(df2['find_taxrank'] == 'class')]\n",
    "df2 = df2[~(df2['find_taxrank'] == 'order')]"
   ]
  },
  {
   "cell_type": "code",
   "execution_count": 15,
   "metadata": {},
   "outputs": [
    {
     "data": {
      "text/plain": [
       "species            3201\n",
       "strain             1348\n",
       "subspecies           77\n",
       "serogroup            11\n",
       "isolate               1\n",
       "serotype              1\n",
       "forma specialis       1\n",
       "Name: find_taxrank, dtype: int64"
      ]
     },
     "execution_count": 15,
     "metadata": {},
     "output_type": "execute_result"
    }
   ],
   "source": [
    "df2['find_taxrank'].value_counts()\n"
   ]
  },
  {
   "cell_type": "code",
   "execution_count": 7,
   "metadata": {},
   "outputs": [
    {
     "data": {
      "text/plain": [
       "4641"
      ]
     },
     "execution_count": 7,
     "metadata": {},
     "output_type": "execute_result"
    }
   ],
   "source": [
    "len(df2)"
   ]
  },
  {
   "cell_type": "code",
   "execution_count": 16,
   "metadata": {},
   "outputs": [],
   "source": [
    "df2.to_csv('virushostdb_phage_output(non_scaffold_filtered).tsv', sep='\\t', index=False)\n"
   ]
  }
 ],
 "metadata": {
  "interpreter": {
   "hash": "3c3b1f68f84beab8382f21a915ede04862a3ee36b0db72f203c6e0d4c6345b06"
  },
  "kernelspec": {
   "display_name": "Python 3.8.5 ('base')",
   "language": "python",
   "name": "python3"
  },
  "language_info": {
   "codemirror_mode": {
    "name": "ipython",
    "version": 3
   },
   "file_extension": ".py",
   "mimetype": "text/x-python",
   "name": "python",
   "nbconvert_exporter": "python",
   "pygments_lexer": "ipython3",
   "version": "3.8.5"
  },
  "orig_nbformat": 4
 },
 "nbformat": 4,
 "nbformat_minor": 2
}
