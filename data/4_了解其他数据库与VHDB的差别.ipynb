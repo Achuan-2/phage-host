{
 "cells": [
  {
   "cell_type": "code",
   "execution_count": null,
   "metadata": {},
   "outputs": [],
   "source": [
    "edwards = []\n",
    "with open('explore/1-edwards/edwards2016.txt') as f:\n",
    "    for line in f:\n",
    "        phage_acc = line.strip().split('\\t')[0]\n",
    "        edwards.append(phage_acc)\n",
    "edwards = set(edwards)\n",
    "edwards_uniq = []\n",
    "for i in edwards:\n",
    "    if i not in set1:\n",
    "        edwards_uniq.append(i)\n",
    "print(len(edwards_uniq))\n"
   ]
  },
  {
   "cell_type": "code",
   "execution_count": null,
   "metadata": {},
   "outputs": [],
   "source": [
    "phiads = []\n",
    "with open('explore/2-PHIAF/data_pos.txt') as f:\n",
    "    for line in f:\n",
    "        phage_acc = line.strip().split(',')[0]\n",
    "        phiads.append(phage_acc)\n",
    "phiads = set(phiads)\n",
    "print(len(phiads))\n",
    "phiads_uniq = []\n",
    "for i in phiads:\n",
    "    if i not in set1:\n",
    "        phiads_uniq.append(i)\n",
    "print(len(phiads_uniq))\n"
   ]
  },
  {
   "cell_type": "code",
   "execution_count": null,
   "metadata": {},
   "outputs": [],
   "source": [
    "wangs = []\n",
    "with open('explore/3-wang/wang_train_pairs.csv') as f:\n",
    "    f.readline()\n",
    "    for line in f:\n",
    "        phage_acc = line.strip().split(',')[0]\n",
    "        wangs.append(phage_acc)\n",
    "wangs = set(wangs)\n",
    "print(len(wangs))\n",
    "wangs_uniq = []\n",
    "for i in wangs:\n",
    "    if i not in set1:\n",
    "        wangs_uniq.append(i)\n",
    "print(len(wangs_uniq))\n"
   ]
  },
  {
   "cell_type": "code",
   "execution_count": null,
   "metadata": {},
   "outputs": [],
   "source": [
    "yilou = []\n",
    "yilou.append('wangs_uniq')\n",
    "yilou.append('phiads_uniq')\n",
    "yilou.append('edwards_uniq')\n",
    "yilou=set(yilou)    \n",
    "print(len(yilou))\n",
    "f = open(\"VHDB_待补充.txt\", \"w\")\n",
    "f.write('\\n'.join(set1))\n",
    "f.close()"
   ]
  }
 ],
 "metadata": {
  "language_info": {
   "name": "python"
  },
  "orig_nbformat": 4
 },
 "nbformat": 4,
 "nbformat_minor": 2
}
