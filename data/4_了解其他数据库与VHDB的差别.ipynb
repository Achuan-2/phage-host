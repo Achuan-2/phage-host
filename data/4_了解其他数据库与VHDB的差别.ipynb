{
 "cells": [
  {
   "cell_type": "code",
   "execution_count": 23,
   "metadata": {},
   "outputs": [
    {
     "name": "stdout",
     "output_type": "stream",
     "text": [
      "17298\n"
     ]
    }
   ],
   "source": [
    "import pandas as pd\n",
    "df = pd.read_table('virushostdb.daily.tsv')\n",
    "phage_list=[]\n",
    "for line in df['refseq id']:\n",
    "    if ',' in line:\n",
    "        line.split(',')\n",
    "        accs=[acc.strip() for acc in line.split(',')]\n",
    "        phage_list.extend(accs)\n",
    "    else:\n",
    "        phage_list.append(line.strip())\n",
    "set1=set(phage_list)\n",
    "print(len(set1))\n"
   ]
  },
  {
   "cell_type": "code",
   "execution_count": 24,
   "metadata": {},
   "outputs": [
    {
     "name": "stdout",
     "output_type": "stream",
     "text": [
      "820\n",
      "12\n"
     ]
    }
   ],
   "source": [
    "edwards = []\n",
    "with open('explore/1-edwards/edwards2016.txt') as f:\n",
    "    for line in f:\n",
    "        phage_acc = line.strip().split('\\t')[0]\n",
    "        edwards.append(phage_acc)\n",
    "edwards = set(edwards)\n",
    "print(len(edwards))\n",
    "edwards_uniq = []\n",
    "for i in edwards:\n",
    "    if i not in set1:\n",
    "        edwards_uniq.append(i)\n",
    "print(len(edwards_uniq))\n"
   ]
  },
  {
   "cell_type": "code",
   "execution_count": 25,
   "metadata": {},
   "outputs": [
    {
     "name": "stdout",
     "output_type": "stream",
     "text": [
      "304\n",
      "23\n"
     ]
    }
   ],
   "source": [
    "phiads = []\n",
    "with open('explore/2-PHIAF/data_pos.txt') as f:\n",
    "    for line in f:\n",
    "        phage_acc = line.strip().split(',')[0]\n",
    "        phiads.append(phage_acc)\n",
    "phiads = set(phiads)\n",
    "print(len(phiads))\n",
    "phiads_uniq = []\n",
    "for i in phiads:\n",
    "    if i not in set1:\n",
    "        phiads_uniq.append(i)\n",
    "print(len(phiads_uniq))\n"
   ]
  },
  {
   "cell_type": "code",
   "execution_count": 26,
   "metadata": {},
   "outputs": [
    {
     "name": "stdout",
     "output_type": "stream",
     "text": [
      "826\n",
      "3\n"
     ]
    }
   ],
   "source": [
    "wangs = []\n",
    "with open('explore/3-wang/wang_train_pairs.csv') as f:\n",
    "    f.readline()\n",
    "    for line in f:\n",
    "        phage_acc = line.strip().split(',')[0]\n",
    "        wangs.append(phage_acc)\n",
    "wangs = set(wangs)\n",
    "print(len(wangs))\n",
    "wangs_uniq = []\n",
    "for i in wangs:\n",
    "    if i not in set1:\n",
    "        wangs_uniq.append(i)\n",
    "print(len(wangs_uniq))\n",
    "\n"
   ]
  },
  {
   "cell_type": "code",
   "execution_count": 34,
   "metadata": {},
   "outputs": [
    {
     "name": "stdout",
     "output_type": "stream",
     "text": [
      "1771\n"
     ]
    }
   ],
   "source": [
    "all=[]\n",
    "all.extend(wangs)\n",
    "all.extend(phiads)\n",
    "all.extend(edwards)\n",
    "print(len(set(all)))"
   ]
  },
  {
   "cell_type": "code",
   "execution_count": 30,
   "metadata": {},
   "outputs": [
    {
     "name": "stdout",
     "output_type": "stream",
     "text": [
      "38\n"
     ]
    }
   ],
   "source": [
    "yilou = []\n",
    "yilou.extend(wangs_uniq)\n",
    "yilou.extend(phiads_uniq)\n",
    "yilou.extend(edwards_uniq)\n",
    "yilou=set(yilou)    \n",
    "print(len(yilou))\n",
    "f = open(\"其他数据库有而VHDB没有的phage id.txt\", \"w\")\n",
    "f.write('\\n'.join(sorted(yilou)))\n",
    "f.close()"
   ]
  },
  {
   "cell_type": "code",
   "execution_count": 28,
   "metadata": {},
   "outputs": [
    {
     "name": "stdout",
     "output_type": "stream",
     "text": [
      "{'JN116822', 'NC_005809', 'MN586033', 'NC_010763', 'NC_023591', 'JX901189', 'NC_021859', 'KR053194', 'MT657340', 'HG793132', 'MK061416', 'NC_042059', 'NC_003525', 'MH825699', 'NC_021778', 'MK814756', 'MG925343', 'KJ567041', 'NC_008355', 'KR337649', 'MN586063', 'MN234189', 'MN284906', 'MN813682', 'NC_005808', 'NC_010762', 'NC_023596', 'NC_007457', 'MW291017', 'NC_019781', 'KR053196', 'KX507345', 'MN234213', 'MK620896', 'MK433259', 'JQ896627', 'MN224566', 'MK977706'}\n"
     ]
    }
   ],
   "source": [
    "print(yilou)"
   ]
  },
  {
   "cell_type": "markdown",
   "metadata": {},
   "source": [
    "edwards,PHIAF,wang数据库共有1771个phage id\n",
    "发现这些id在VHDB没有的phage id 有38个\n",
    "genbank id：有14个VHDB没有的phage，其他的11个是VHDB已经有nc id了\n",
    "NC id：13个都是被remove的过期id，VHDB实际有新的id。"
   ]
  }
 ],
 "metadata": {
  "interpreter": {
   "hash": "3c3b1f68f84beab8382f21a915ede04862a3ee36b0db72f203c6e0d4c6345b06"
  },
  "kernelspec": {
   "display_name": "Python 3.8.5 ('base')",
   "language": "python",
   "name": "python3"
  },
  "language_info": {
   "codemirror_mode": {
    "name": "ipython",
    "version": 3
   },
   "file_extension": ".py",
   "mimetype": "text/x-python",
   "name": "python",
   "nbconvert_exporter": "python",
   "pygments_lexer": "ipython3",
   "version": "3.8.5"
  },
  "orig_nbformat": 4
 },
 "nbformat": 4,
 "nbformat_minor": 2
}
