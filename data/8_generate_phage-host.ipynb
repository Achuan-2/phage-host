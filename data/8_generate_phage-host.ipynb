{
 "cells": [
  {
   "cell_type": "code",
   "execution_count": 9,
   "metadata": {},
   "outputs": [],
   "source": [
    "import pandas as pd\n",
    "# startwith GCF\n",
    "output=open('2.tsv','w')\n",
    "output.write('virus_name\\tviral_acc\\treport_host\\tgc\\tfind_taxrank\\n')\n",
    "# cut -f 1,2,4,10,14 \"virushostdb_output(filtered).tsv\" > 3.tsv\n",
    "with open('3.tsv','r') as f:\n",
    "    f.readline()\n",
    "    for line in f:\n",
    "        line=line.strip()\n",
    "        virus_name, virus_ids, report_host, host_id, find_taxrank = line.split(\n",
    "            '\\t')\n",
    "        # virus_id=line.split('\\t')[0]\n",
    "        # host_id=line.split('\\t')[1]\n",
    "        if ',' in virus_ids:\n",
    "            virus_ids=virus_ids.split(',')\n",
    "            for virus_id in virus_ids:\n",
    "                virus_id=virus_id.strip()\n",
    "                output.write(virus_name+'\\t'+virus_id + '\\t' +\n",
    "                            report_host+'\\t'+host_id+'\\t'+find_taxrank+'\\n')\n",
    "        else:\n",
    "            output.write(line+'\\n')\n",
    "output.close()\n"
   ]
  },
  {
   "cell_type": "code",
   "execution_count": 2,
   "metadata": {},
   "outputs": [],
   "source": [
    "output=open('2.tsv','w')\n",
    "with open('phage_gcf.txt','r') as f:\n",
    "    for line in f:\n",
    "        line=line.strip()\n",
    "        ncids=line.split('(')[1].split(')')[0]\n",
    "        for ncid in ncids.split(','):\n",
    "            ncid=ncid.strip()\n",
    "            output.write(ncid+'\\n')\n",
    "output.close()\n"
   ]
  }
 ],
 "metadata": {
  "interpreter": {
   "hash": "3c3b1f68f84beab8382f21a915ede04862a3ee36b0db72f203c6e0d4c6345b06"
  },
  "kernelspec": {
   "display_name": "Python 3.8.5 ('base')",
   "language": "python",
   "name": "python3"
  },
  "language_info": {
   "codemirror_mode": {
    "name": "ipython",
    "version": 3
   },
   "file_extension": ".py",
   "mimetype": "text/x-python",
   "name": "python",
   "nbconvert_exporter": "python",
   "pygments_lexer": "ipython3",
   "version": "3.8.5"
  },
  "orig_nbformat": 4
 },
 "nbformat": 4,
 "nbformat_minor": 2
}
