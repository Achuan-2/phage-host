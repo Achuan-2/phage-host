{
 "cells": [
  {
   "cell_type": "code",
   "execution_count": 20,
   "metadata": {},
   "outputs": [
    {
     "data": {
      "text/plain": [
       "array(['virus tax id', 'virus name', 'virus lineage', 'refseq id',\n",
       "       'KEGG GENOME', 'KEGG DISEASE', 'DISEASE', 'host tax id',\n",
       "       'host name', 'host lineage', 'pmid', 'evidence', 'sample type',\n",
       "       'source organism'], dtype=object)"
      ]
     },
     "execution_count": 20,
     "metadata": {},
     "output_type": "execute_result"
    }
   ],
   "source": [
    "import pandas as pd\n",
    "df = pd.read_table('virushostdb.daily.tsv')\n",
    "df.columns.values"
   ]
  },
  {
   "cell_type": "code",
   "execution_count": 28,
   "metadata": {},
   "outputs": [
    {
     "name": "stderr",
     "output_type": "stream",
     "text": [
      "C:\\Users\\Achuan\\AppData\\Local\\Temp/ipykernel_25168/3077257933.py:21: SettingWithCopyWarning: \n",
      "A value is trying to be set on a copy of a slice from a DataFrame.\n",
      "Try using .loc[row_indexer,col_indexer] = value instead\n",
      "\n",
      "See the caveats in the documentation: https://pandas.pydata.org/pandas-docs/stable/user_guide/indexing.html#returning-a-view-versus-a-copy\n",
      "  df3['isphage'] = df3['host lineage'].apply(select_phage)\n"
     ]
    }
   ],
   "source": [
    "df2 = df[['virus name', 'refseq id','evidence', 'host name', 'host tax id', 'host lineage']]\n",
    "# df2[[\"host tax id\"]]=df2[[\"host tax id\"]].astype(int)\n",
    "df2[df2[\"host tax id\"].isnull()]\n",
    "# print(len(df2)) # 17959\n",
    "# print(len(df2.dropna(axis=0, how='any'))) # 16537\n",
    "df3 = df2.dropna(axis=0, how='any')\n",
    "\n",
    "# df['host lineage'].str.split(';').apply(len)\n",
    "\n",
    "def select_phage(x):\n",
    "\n",
    "    try:\n",
    "        kingdom=x.split(';')[0].strip()\n",
    "        if kingdom == 'Bacteria' or kingdom == 'Archaea':\n",
    "            return 1\n",
    "        elif kingdom == 'Eukaryota':\n",
    "            return 0\n",
    "    except:\n",
    "        print(x)\n",
    "\n",
    "df3['isphage'] = df3['host lineage'].apply(select_phage)\n",
    "\n"
   ]
  },
  {
   "cell_type": "code",
   "execution_count": 29,
   "metadata": {},
   "outputs": [
    {
     "name": "stderr",
     "output_type": "stream",
     "text": [
      "C:\\Users\\Achuan\\AppData\\Local\\Temp/ipykernel_25168/847363214.py:2: SettingWithCopyWarning: \n",
      "A value is trying to be set on a copy of a slice from a DataFrame.\n",
      "Try using .loc[row_indexer,col_indexer] = value instead\n",
      "\n",
      "See the caveats in the documentation: https://pandas.pydata.org/pandas-docs/stable/user_guide/indexing.html#returning-a-view-versus-a-copy\n",
      "  df4['host tax id'] = df4['host tax id'].astype(int)\n"
     ]
    }
   ],
   "source": [
    "df4=df3[df3['isphage']==1]\n",
    "df4['host tax id'] = df4['host tax id'].astype(int)\n",
    "df_phage=df4[['virus name', 'refseq id', 'evidence','host name', 'host tax id', 'host lineage']]\n",
    "df_phage.to_csv('virushostdb.daily.tsv.phage.tsv',sep='\\t',index=False)\n"
   ]
  },
  {
   "cell_type": "markdown",
   "metadata": {},
   "source": [
    "## 添加host tax rank信息"
   ]
  },
  {
   "cell_type": "code",
   "execution_count": 34,
   "metadata": {},
   "outputs": [],
   "source": [
    "\n",
    "df_phage=pd.read_table('virushostdb.daily.tsv.phage.tsv')\n",
    "\n",
    "\n",
    "with open('host_info2.tsv', 'r') as f:\n",
    "    lines = f.readlines()\n",
    "    ranks=[line.split('\\t')[1] for line in lines]"
   ]
  },
  {
   "cell_type": "code",
   "execution_count": 35,
   "metadata": {},
   "outputs": [],
   "source": [
    "tax_ranks=[rank.strip() for rank in ranks]"
   ]
  },
  {
   "cell_type": "code",
   "execution_count": 36,
   "metadata": {},
   "outputs": [],
   "source": [
    "len(tax_ranks)\n",
    "df_phage['tax_ranks']=tax_ranks\n",
    "df_phage.to_csv('virushostdb.daily.tsv.phage.tsv', sep='\\t', index=False)\n"
   ]
  },
  {
   "cell_type": "markdown",
   "metadata": {},
   "source": [
    "## 筛选host rank"
   ]
  },
  {
   "cell_type": "code",
   "execution_count": 37,
   "metadata": {},
   "outputs": [
    {
     "data": {
      "text/plain": [
       "species            3403\n",
       "strain             1201\n",
       "no rank             251\n",
       "genus               158\n",
       "serotype             72\n",
       "subspecies           70\n",
       "serogroup            20\n",
       "order                12\n",
       "family                7\n",
       "superkingdom          4\n",
       "species group         3\n",
       "class                 1\n",
       "forma specialis       1\n",
       "isolate               1\n",
       "Name: tax_ranks, dtype: int64"
      ]
     },
     "execution_count": 37,
     "metadata": {},
     "output_type": "execute_result"
    }
   ],
   "source": [
    "df_phage['tax_ranks'].value_counts()\n"
   ]
  },
  {
   "cell_type": "markdown",
   "metadata": {},
   "source": [
    "把no rank手动命名为strain\n"
   ]
  },
  {
   "cell_type": "code",
   "execution_count": 38,
   "metadata": {},
   "outputs": [
    {
     "data": {
      "text/plain": [
       "species            3403\n",
       "strain             1452\n",
       "genus               158\n",
       "serotype             72\n",
       "subspecies           70\n",
       "serogroup            20\n",
       "order                12\n",
       "family                7\n",
       "superkingdom          4\n",
       "species group         3\n",
       "class                 1\n",
       "forma specialis       1\n",
       "isolate               1\n",
       "Name: tax_ranks, dtype: int64"
      ]
     },
     "execution_count": 38,
     "metadata": {},
     "output_type": "execute_result"
    }
   ],
   "source": [
    "df_phage = pd.read_table('virushostdb.daily.tsv.phage.tsv')\n",
    "df_phage['tax_ranks'].value_counts()"
   ]
  },
  {
   "cell_type": "code",
   "execution_count": 39,
   "metadata": {},
   "outputs": [],
   "source": [
    "df_phage = df_phage[~(df_phage['tax_ranks'] == 'genus')]\n",
    "df_phage = df_phage[~(df_phage['tax_ranks'] == 'family')]\n",
    "df_phage = df_phage[~(df_phage['tax_ranks'] == 'order')]\n",
    "df_phage=df_phage[~(df_phage['tax_ranks'] == 'superkingdom')]\n",
    "df_phage = df_phage[~(df_phage['tax_ranks'] == 'species group')]\n",
    "df_phage = df_phage[~(df_phage['tax_ranks'] == 'class')]"
   ]
  },
  {
   "cell_type": "code",
   "execution_count": 40,
   "metadata": {},
   "outputs": [
    {
     "data": {
      "text/plain": [
       "species            3403\n",
       "strain             1452\n",
       "serotype             72\n",
       "subspecies           70\n",
       "serogroup            20\n",
       "isolate               1\n",
       "forma specialis       1\n",
       "Name: tax_ranks, dtype: int64"
      ]
     },
     "execution_count": 40,
     "metadata": {},
     "output_type": "execute_result"
    }
   ],
   "source": [
    "df_phage['tax_ranks'].value_counts()\n"
   ]
  },
  {
   "cell_type": "code",
   "execution_count": 41,
   "metadata": {},
   "outputs": [
    {
     "data": {
      "text/plain": [
       "5019"
      ]
     },
     "execution_count": 41,
     "metadata": {},
     "output_type": "execute_result"
    }
   ],
   "source": [
    "len(df_phage)\n"
   ]
  },
  {
   "cell_type": "code",
   "execution_count": 42,
   "metadata": {},
   "outputs": [],
   "source": [
    "df_phage.to_csv('virushostdb.daily.tsv.phage.tsv', sep='\\t', index=False)"
   ]
  },
  {
   "cell_type": "code",
   "execution_count": 45,
   "metadata": {},
   "outputs": [
    {
     "data": {
      "text/plain": [
       "4737"
      ]
     },
     "execution_count": 45,
     "metadata": {},
     "output_type": "execute_result"
    }
   ],
   "source": [
    "import pandas as pd\n",
    "df=pd.read_table('tmp.tsv', sep='\\t')\n",
    "# df2=df[df['report_host']==df[ 'find_name']]\n",
    "# df_=df[df['assembly_level'] == 'Scaffold']\n",
    "# len(df_)\n",
    "set1=set(df['virus_name'])\n",
    "len(set1)\n"
   ]
  },
  {
   "cell_type": "code",
   "execution_count": 46,
   "metadata": {},
   "outputs": [
    {
     "data": {
      "text/plain": [
       "Salmonella phage OSY-STA            14\n",
       "Bacillus phage vB_BsuM-Goe3          8\n",
       "Enterobacteria phage PRD1            8\n",
       "Bacillus phage SerPounce             7\n",
       "Gordonia phage GTE7                  6\n",
       "                                    ..\n",
       "Mycobacterium phage DrDrey           1\n",
       "Bacillus phage G                     1\n",
       "Corynebacterium phage Kimchi1738     1\n",
       "Lactococcus phage CHPC972            1\n",
       "Streptococcus phage phi20c           1\n",
       "Name: virus_name, Length: 4737, dtype: int64"
      ]
     },
     "execution_count": 46,
     "metadata": {},
     "output_type": "execute_result"
    }
   ],
   "source": [
    "# phage重名是因为有phage可以感染多个host\n",
    "df['virus_name'].value_counts()"
   ]
  },
  {
   "cell_type": "code",
   "execution_count": 60,
   "metadata": {},
   "outputs": [
    {
     "name": "stderr",
     "output_type": "stream",
     "text": [
      "100%|██████████| 5080/5080 [00:00<00:00, 175185.11it/s]"
     ]
    },
    {
     "name": "stdout",
     "output_type": "stream",
     "text": [
      "5080\n"
     ]
    },
    {
     "name": "stderr",
     "output_type": "stream",
     "text": [
      "\n"
     ]
    }
   ],
   "source": []
  },
  {
   "cell_type": "code",
   "execution_count": 65,
   "metadata": {},
   "outputs": [
    {
     "name": "stderr",
     "output_type": "stream",
     "text": [
      "100%|██████████| 5019/5019 [00:00<00:00, 23563.74it/s]\n"
     ]
    }
   ],
   "source": []
  }
 ],
 "metadata": {
  "interpreter": {
   "hash": "3c3b1f68f84beab8382f21a915ede04862a3ee36b0db72f203c6e0d4c6345b06"
  },
  "kernelspec": {
   "display_name": "Python 3.8.5 ('base')",
   "language": "python",
   "name": "python3"
  },
  "language_info": {
   "codemirror_mode": {
    "name": "ipython",
    "version": 3
   },
   "file_extension": ".py",
   "mimetype": "text/x-python",
   "name": "python",
   "nbconvert_exporter": "python",
   "pygments_lexer": "ipython3",
   "version": "3.8.5"
  },
  "orig_nbformat": 4
 },
 "nbformat": 4,
 "nbformat_minor": 2
}
