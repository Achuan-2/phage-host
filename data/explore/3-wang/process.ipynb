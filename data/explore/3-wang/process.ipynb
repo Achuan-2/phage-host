{
 "cells": [
  {
   "cell_type": "code",
   "execution_count": 41,
   "metadata": {},
   "outputs": [
    {
     "name": "stdout",
     "output_type": "stream",
     "text": [
      "97\n",
      "729\n"
     ]
    }
   ],
   "source": [
    "import pandas as pd"
   ]
  },
  {
   "cell_type": "code",
   "execution_count": null,
   "metadata": {},
   "outputs": [],
   "source": [
    "!cut -f 5  wang_train_pairs_output.tsv > host_name.tsv\n",
    "!cat host_name.tsv | taxonkit name2taxid -r | tee wang_host_info.tsv\n"
   ]
  },
  {
   "cell_type": "code",
   "execution_count": null,
   "metadata": {},
   "outputs": [],
   "source": [
    "\n",
    "with open('wang_host_info.tsv', 'r') as f:\n",
    "    lines = f.readlines()\n",
    "    ranks = [line.split('\\t')[2] for line in lines]\n",
    "tax_ranks = [rank.strip() for rank in ranks]\n",
    "len(tax_ranks)\n",
    "df_ = pd.read_table('wang_train_pairs_output.tsv')\n",
    "df_['tax_ranks'] = tax_ranks\n",
    "df_.to_csv('wang_train_pairs_output.tsv', sep='\\t', index=False)\n"
   ]
  },
  {
   "cell_type": "code",
   "execution_count": null,
   "metadata": {},
   "outputs": [],
   "source": [
    "\n",
    "df=pd.read_table('wang_train_pairs_output.tsv')\n",
    "\n",
    "df2=df[df[\"corrected_name\"] != df[\"find_name\"]]\n",
    "print(len(df2))\n",
    "df2.to_csv('wang_train_pairs_output_unmatched.tsv',sep='\\t',index=False)\n",
    "df3=df[df[\"corrected_name\"] == df[\"find_name\"]]\n",
    "print(len(df3))\n",
    "df3.to_csv('wang_train_pairs_output_matched.tsv',sep='\\t',index=False)"
   ]
  }
 ],
 "metadata": {
  "interpreter": {
   "hash": "3c3b1f68f84beab8382f21a915ede04862a3ee36b0db72f203c6e0d4c6345b06"
  },
  "kernelspec": {
   "display_name": "Python 3.8.5 ('base')",
   "language": "python",
   "name": "python3"
  },
  "language_info": {
   "codemirror_mode": {
    "name": "ipython",
    "version": 3
   },
   "file_extension": ".py",
   "mimetype": "text/x-python",
   "name": "python",
   "nbconvert_exporter": "python",
   "pygments_lexer": "ipython3",
   "version": "3.8.5"
  },
  "orig_nbformat": 4
 },
 "nbformat": 4,
 "nbformat_minor": 2
}
