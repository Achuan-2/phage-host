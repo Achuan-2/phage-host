{
 "cells": [
  {
   "cell_type": "code",
   "execution_count": 1,
   "metadata": {},
   "outputs": [
    {
     "data": {
      "text/plain": [
       "array(['virus tax id', 'virus name', 'virus lineage', 'refseq id',\n",
       "       'KEGG GENOME', 'KEGG DISEASE', 'DISEASE', 'host tax id',\n",
       "       'host name', 'host lineage', 'pmid', 'evidence', 'sample type',\n",
       "       'source organism'], dtype=object)"
      ]
     },
     "execution_count": 1,
     "metadata": {},
     "output_type": "execute_result"
    }
   ],
   "source": [
    "import pandas as pd\n",
    "df = pd.read_table('virushostdb.daily.tsv')\n",
    "df.columns.values"
   ]
  },
  {
   "cell_type": "code",
   "execution_count": 2,
   "metadata": {},
   "outputs": [
    {
     "name": "stderr",
     "output_type": "stream",
     "text": [
      "C:\\Users\\Achuan\\AppData\\Local\\Temp/ipykernel_25168/3428578975.py:21: SettingWithCopyWarning: \n",
      "A value is trying to be set on a copy of a slice from a DataFrame.\n",
      "Try using .loc[row_indexer,col_indexer] = value instead\n",
      "\n",
      "See the caveats in the documentation: https://pandas.pydata.org/pandas-docs/stable/user_guide/indexing.html#returning-a-view-versus-a-copy\n",
      "  df3['isphage'] = df3['host lineage'].apply(select_phage)\n"
     ]
    }
   ],
   "source": [
    "df2 = df[['virus name', 'refseq id', 'host name', 'host tax id', 'host lineage']]\n",
    "# df2[[\"host tax id\"]]=df2[[\"host tax id\"]].astype(int)\n",
    "df2[df2[\"host tax id\"].isnull()]\n",
    "# print(len(df2)) # 17959\n",
    "# print(len(df2.dropna(axis=0, how='any'))) # 16537\n",
    "df3 = df2.dropna(axis=0, how='any')\n",
    "\n",
    "# df['host lineage'].str.split(';').apply(len)\n",
    "\n",
    "def select_phage(x):\n",
    "\n",
    "    try:\n",
    "        kingdom=x.split(';')[0].strip()\n",
    "        if kingdom == 'Bacteria' or kingdom == 'Archaea':\n",
    "            return 1\n",
    "        elif kingdom == 'Eukaryota':\n",
    "            return 0\n",
    "    except:\n",
    "        print(x)\n",
    "\n",
    "df3['isphage'] = df3['host lineage'].apply(select_phage)\n",
    "\n"
   ]
  },
  {
   "cell_type": "code",
   "execution_count": 3,
   "metadata": {},
   "outputs": [
    {
     "name": "stderr",
     "output_type": "stream",
     "text": [
      "C:\\Users\\Achuan\\AppData\\Local\\Temp/ipykernel_25168/2954069717.py:2: SettingWithCopyWarning: \n",
      "A value is trying to be set on a copy of a slice from a DataFrame.\n",
      "Try using .loc[row_indexer,col_indexer] = value instead\n",
      "\n",
      "See the caveats in the documentation: https://pandas.pydata.org/pandas-docs/stable/user_guide/indexing.html#returning-a-view-versus-a-copy\n",
      "  df4['host tax id'] = df4['host tax id'].astype(int)\n"
     ]
    }
   ],
   "source": [
    "df4=df3[df3['isphage']==1]\n",
    "df4['host tax id'] = df4['host tax id'].astype(int)\n",
    "df_phage=df4[['virus name', 'refseq id', 'host name', 'host tax id', 'host lineage']]\n",
    "df_phage.to_csv('virushostdb.daily.tsv.phage.tsv',sep='\\t',index=False)\n"
   ]
  },
  {
   "cell_type": "markdown",
   "metadata": {},
   "source": [
    "## 添加host tax rank信息"
   ]
  },
  {
   "cell_type": "code",
   "execution_count": 4,
   "metadata": {},
   "outputs": [],
   "source": [
    "\n",
    "df_phage=pd.read_table('virushostdb.daily.tsv.phage.tsv')\n",
    "\n",
    "\n",
    "with open('host_info2.tsv', 'r') as f:\n",
    "    lines = f.readlines()\n",
    "    ranks=[line.split('\\t')[1] for line in lines]\n"
   ]
  },
  {
   "cell_type": "code",
   "execution_count": 5,
   "metadata": {},
   "outputs": [],
   "source": [
    "tax_ranks=[rank.strip() for rank in ranks]"
   ]
  },
  {
   "cell_type": "code",
   "execution_count": 7,
   "metadata": {},
   "outputs": [],
   "source": [
    "len(tax_ranks)\n",
    "df_phage['tax_ranks']=tax_ranks\n",
    "df_phage.to_csv('virushostdb.daily.tsv.phage.tsv', sep='\\t', index=False)\n"
   ]
  },
  {
   "cell_type": "markdown",
   "metadata": {},
   "source": [
    "## 筛选host rank"
   ]
  },
  {
   "cell_type": "code",
   "execution_count": 8,
   "metadata": {},
   "outputs": [
    {
     "data": {
      "text/plain": [
       "species            3431\n",
       "strain             1225\n",
       "genus               309\n",
       "no rank             254\n",
       "serotype             77\n",
       "subspecies           70\n",
       "family               46\n",
       "serogroup            21\n",
       "order                13\n",
       "species group         5\n",
       "superkingdom          5\n",
       "class                 1\n",
       "forma specialis       1\n",
       "isolate               1\n",
       "Name: tax_ranks, dtype: int64"
      ]
     },
     "execution_count": 8,
     "metadata": {},
     "output_type": "execute_result"
    }
   ],
   "source": [
    "df_phage['tax_ranks'].value_counts()\n"
   ]
  },
  {
   "cell_type": "markdown",
   "metadata": {},
   "source": [
    "把no rank手动命名为strain\n"
   ]
  },
  {
   "cell_type": "code",
   "execution_count": 9,
   "metadata": {},
   "outputs": [
    {
     "data": {
      "text/plain": [
       "species            3431\n",
       "strain             1479\n",
       "genus               309\n",
       "serotype             77\n",
       "subspecies           70\n",
       "family               46\n",
       "serogroup            21\n",
       "order                13\n",
       "species group         5\n",
       "superkingdom          5\n",
       "class                 1\n",
       "forma specialis       1\n",
       "isolate               1\n",
       "Name: tax_ranks, dtype: int64"
      ]
     },
     "execution_count": 9,
     "metadata": {},
     "output_type": "execute_result"
    }
   ],
   "source": [
    "df_phage = pd.read_table('virushostdb.daily.tsv.phage.tsv')\n",
    "df_phage['tax_ranks'].value_counts()"
   ]
  },
  {
   "cell_type": "code",
   "execution_count": 10,
   "metadata": {},
   "outputs": [],
   "source": [
    "df_phage = df_phage[~(df_phage['tax_ranks'] == 'genus')]\n",
    "df_phage = df_phage[~(df_phage['tax_ranks'] == 'family')]\n",
    "df_phage = df_phage[~(df_phage['tax_ranks'] == 'order')]\n",
    "df_phage=df_phage[~(df_phage['tax_ranks'] == 'superkingdom')]\n",
    "df_phage = df_phage[~(df_phage['tax_ranks'] == 'species group')]\n",
    "df_phage = df_phage[~(df_phage['tax_ranks'] == 'class')]"
   ]
  },
  {
   "cell_type": "code",
   "execution_count": 11,
   "metadata": {},
   "outputs": [
    {
     "data": {
      "text/plain": [
       "species            3431\n",
       "strain             1479\n",
       "serotype             77\n",
       "subspecies           70\n",
       "serogroup            21\n",
       "isolate               1\n",
       "forma specialis       1\n",
       "Name: tax_ranks, dtype: int64"
      ]
     },
     "execution_count": 11,
     "metadata": {},
     "output_type": "execute_result"
    }
   ],
   "source": [
    "df_phage['tax_ranks'].value_counts()\n"
   ]
  },
  {
   "cell_type": "code",
   "execution_count": 12,
   "metadata": {},
   "outputs": [
    {
     "data": {
      "text/plain": [
       "5080"
      ]
     },
     "execution_count": 12,
     "metadata": {},
     "output_type": "execute_result"
    }
   ],
   "source": [
    "len(df_phage)\n"
   ]
  },
  {
   "cell_type": "code",
   "execution_count": 15,
   "metadata": {},
   "outputs": [
    {
     "data": {
      "text/plain": [
       "array(['virus name', 'refseq id', 'host name', 'host tax id',\n",
       "       'host lineage', 'tax_ranks'], dtype=object)"
      ]
     },
     "execution_count": 15,
     "metadata": {},
     "output_type": "execute_result"
    }
   ],
   "source": [
    "df_phage.columns.values"
   ]
  },
  {
   "cell_type": "code",
   "execution_count": null,
   "metadata": {},
   "outputs": [],
   "source": [
    "df_phage[[\"\"]]"
   ]
  },
  {
   "cell_type": "code",
   "execution_count": 13,
   "metadata": {},
   "outputs": [],
   "source": [
    "df_phage.to_csv('virushostdb.daily.tsv.phage.tsv', sep='\\t', index=False)"
   ]
  }
 ],
 "metadata": {
  "interpreter": {
   "hash": "3c3b1f68f84beab8382f21a915ede04862a3ee36b0db72f203c6e0d4c6345b06"
  },
  "kernelspec": {
   "display_name": "Python 3.8.5 ('base')",
   "language": "python",
   "name": "python3"
  },
  "language_info": {
   "codemirror_mode": {
    "name": "ipython",
    "version": 3
   },
   "file_extension": ".py",
   "mimetype": "text/x-python",
   "name": "python",
   "nbconvert_exporter": "python",
   "pygments_lexer": "ipython3",
   "version": "3.8.5"
  },
  "orig_nbformat": 4
 },
 "nbformat": 4,
 "nbformat_minor": 2
}
