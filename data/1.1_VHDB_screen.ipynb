{
 "cells": [
  {
   "cell_type": "code",
   "execution_count": 11,
   "metadata": {},
   "outputs": [
    {
     "data": {
      "text/plain": [
       "array(['virus tax id', 'virus name', 'virus lineage', 'refseq id',\n",
       "       'KEGG GENOME', 'KEGG DISEASE', 'DISEASE', 'host tax id',\n",
       "       'host name', 'host lineage', 'pmid', 'evidence', 'sample type',\n",
       "       'source organism'], dtype=object)"
      ]
     },
     "execution_count": 11,
     "metadata": {},
     "output_type": "execute_result"
    }
   ],
   "source": [
    "import pandas as pd\n",
    "df = pd.read_table('virushostdb.daily.tsv')\n",
    "df.columns.values\n"
   ]
  },
  {
   "cell_type": "markdown",
   "metadata": {},
   "source": [
    "筛选phage-host条目"
   ]
  },
  {
   "cell_type": "code",
   "execution_count": 12,
   "metadata": {},
   "outputs": [],
   "source": [
    "df2 = df[['virus name', 'refseq id', 'evidence',\n",
    "        'host name', 'host tax id', 'host lineage']].copy()\n",
    "# df2[df2[\"host tax id\"].isnull()]\n",
    "# print(len(df2)) # 17959\n",
    "# print(len(df2.dropna(axis=0, how='any'))) # 16537\n",
    "df3 = df2.dropna(axis=0, how='any')\n",
    "\n",
    "# df['host lineage'].str.split(';').apply(len)\n",
    "\n",
    "\n",
    "def select_phage(x):\n",
    "    try:\n",
    "        kingdom = x.split(';')[0].strip()\n",
    "        if kingdom == 'Bacteria' or kingdom == 'Archaea':\n",
    "            return 1\n",
    "        elif kingdom == 'Eukaryota':\n",
    "            return 0\n",
    "    except:\n",
    "        print(x)\n",
    "\n",
    "\n",
    "df_phage = df3[df3['host lineage'].apply(select_phage) == 1].copy()\n"
   ]
  },
  {
   "cell_type": "code",
   "execution_count": 13,
   "metadata": {},
   "outputs": [],
   "source": [
    "\n",
    "df_phage['host tax id'] = df_phage['host tax id'].astype(int)\n",
    "df_phage.to_csv('virushostdb.daily.phage.tsv', sep='\\t', index=False)\n"
   ]
  },
  {
   "cell_type": "markdown",
   "metadata": {},
   "source": [
    "发现24个phage有多个id"
   ]
  },
  {
   "cell_type": "code",
   "execution_count": 21,
   "metadata": {},
   "outputs": [],
   "source": [
    "\n",
    "df_phage_multiple=df_phage[df_phage['refseq id'].apply(lambda x: ',' in x)]\n",
    "df_phage_multiple.to_csv('virushostdb.daily.phage.multiple.tsv', sep='\\t', index=False)"
   ]
  },
  {
   "cell_type": "code",
   "execution_count": 22,
   "metadata": {},
   "outputs": [
    {
     "data": {
      "text/plain": [
       "24"
      ]
     },
     "execution_count": 22,
     "metadata": {},
     "output_type": "execute_result"
    }
   ],
   "source": [
    "len(set(df_phage_multiple['virus name']))"
   ]
  },
  {
   "cell_type": "markdown",
   "metadata": {},
   "source": [
    "检查后发现只有9个phage不完整，其他是只是同一个名称的不同测序结果，对不完整的phage进行添加GCF id"
   ]
  },
  {
   "cell_type": "code",
   "execution_count": 16,
   "metadata": {},
   "outputs": [],
   "source": [
    "df_phage.loc[df_phage['virus name'] == 'Bacillus phage SPG24', 'refseq id']='GCF_001736955.2(NC_030903, NC_041835, NC_041836, NC_041837, NC_041838, NC_041839, NC_041840, NC_041841, NC_041842)'\n",
    "df_phage.loc[df_phage['virus name'] == 'Pseudomonas phage phi12', 'refseq id']='GCF_000851005.1(NC_004173, NC_004174, NC_004175)'\n",
    "df_phage.loc[df_phage['virus name'] == 'Pseudomonas phage phi13','refseq id'] = 'GCF_000852445.1(NC_004170, NC_004171, NC_004172)'\n",
    "df_phage.loc[df_phage['virus name'] == 'Pseudomonas phage phi2954','refseq id'] = 'GCF_000882035.1(NC_012091, NC_012092, NC_012093)'\n",
    "df_phage.loc[df_phage['virus name'] == 'Pseudomonas phage phi8','refseq id'] = 'GCF_000848645.1(NC_003299, NC_003300, NC_003301)'\n",
    "df_phage.loc[df_phage['virus name'] == 'Pseudomonas phage phiNN','refseq id'] = 'GCF_002925585.1(NC_042068, NC_042069, NC_042070)'\n",
    "df_phage.loc[df_phage['virus name'] == 'Pseudomonas phage phiYY','refseq id'] = 'GCF_002925595.1(NC_042071, NC_042072, NC_042073)'\n",
    "df_phage.loc[df_phage['virus name'] == 'Pseudomonas virus phi6','refseq id'] = 'GCF_000852125.1(NC_003714, NC_003715, NC_003716)'\n",
    "df_phage.loc[df_phage['virus name'] == 'Salmonella phage SP069','refseq id'] = 'GCF_002831045.1(NC_042062 NC_042063,NC_042064)'\n"
   ]
  },
  {
   "cell_type": "markdown",
   "metadata": {},
   "source": [
    "VHDB phage name有重复的是因为记录了多个host"
   ]
  },
  {
   "cell_type": "code",
   "execution_count": 17,
   "metadata": {},
   "outputs": [
    {
     "data": {
      "text/plain": [
       "Salmonella phage OSY-STA                14\n",
       "Enterobacteria phage PRD1                8\n",
       "Bacillus phage vB_BsuM-Goe3              8\n",
       "Bacillus phage SerPounce                 7\n",
       "Bacillus phage BPS10C                    6\n",
       "                                        ..\n",
       "Bacteriophage DSS3_VP1                   1\n",
       "Rhizobium phage vB_RleM_P10VF            1\n",
       "Bacillus phage vB_BhaS-171               1\n",
       "Gordonia phage Stultus                   1\n",
       "Pseudomonas phage vB_PaeM_C2-10_Ab08     1\n",
       "Name: virus name, Length: 4791, dtype: int64"
      ]
     },
     "execution_count": 17,
     "metadata": {},
     "output_type": "execute_result"
    }
   ],
   "source": [
    "df_phage['virus name'].value_counts()\n"
   ]
  },
  {
   "cell_type": "markdown",
   "metadata": {},
   "source": [
    "## 添加 tax lineage信息\n",
    "根据taxid生成tax lineage信息，只保留界门纲目科属种，如果不在有缺失则用上一级+unclassified\n",
    "```bash\n",
    "cut -f 5 virushostdb.daily.phage.tsv > taxid.tsv\n",
    "cat taxid.tsv | taxonkit lineage | taxonkit reformat -f \"{k}\\t{p}\\t{c}\\t{o}\\t{f}\\t{g}\\t{s}\\t{t}\" -P  | cut -f 3- |  tr '\\t' ';' | tee lineage.tsv\n",
    "\n",
    "cat taxid.tsv| taxonkit lineage -r -L | tee rank.tsv\n",
    "\n",
    "\n",
    "paste rank.tsv lineage.tsv | tail -n+2 > host_info.tsv\n",
    "```"
   ]
  },
  {
   "cell_type": "code",
   "execution_count": 18,
   "metadata": {},
   "outputs": [
    {
     "data": {
      "text/html": [
       "<div>\n",
       "<style scoped>\n",
       "    .dataframe tbody tr th:only-of-type {\n",
       "        vertical-align: middle;\n",
       "    }\n",
       "\n",
       "    .dataframe tbody tr th {\n",
       "        vertical-align: top;\n",
       "    }\n",
       "\n",
       "    .dataframe thead th {\n",
       "        text-align: right;\n",
       "    }\n",
       "</style>\n",
       "<table border=\"1\" class=\"dataframe\">\n",
       "  <thead>\n",
       "    <tr style=\"text-align: right;\">\n",
       "      <th></th>\n",
       "      <th>host_tax_id</th>\n",
       "      <th>host_rank</th>\n",
       "      <th>host_lineage</th>\n",
       "    </tr>\n",
       "  </thead>\n",
       "  <tbody>\n",
       "    <tr>\n",
       "      <th>0</th>\n",
       "      <td>2148</td>\n",
       "      <td>species</td>\n",
       "      <td>k__Bacteria;p__Tenericutes;c__Mollicutes;o__Ac...</td>\n",
       "    </tr>\n",
       "    <tr>\n",
       "      <th>1</th>\n",
       "      <td>2148</td>\n",
       "      <td>species</td>\n",
       "      <td>k__Bacteria;p__Tenericutes;c__Mollicutes;o__Ac...</td>\n",
       "    </tr>\n",
       "    <tr>\n",
       "      <th>2</th>\n",
       "      <td>85698</td>\n",
       "      <td>species</td>\n",
       "      <td>k__Bacteria;p__Proteobacteria;c__Betaproteobac...</td>\n",
       "    </tr>\n",
       "    <tr>\n",
       "      <th>3</th>\n",
       "      <td>85698</td>\n",
       "      <td>species</td>\n",
       "      <td>k__Bacteria;p__Proteobacteria;c__Betaproteobac...</td>\n",
       "    </tr>\n",
       "    <tr>\n",
       "      <th>4</th>\n",
       "      <td>85698</td>\n",
       "      <td>species</td>\n",
       "      <td>k__Bacteria;p__Proteobacteria;c__Betaproteobac...</td>\n",
       "    </tr>\n",
       "    <tr>\n",
       "      <th>...</th>\n",
       "      <td>...</td>\n",
       "      <td>...</td>\n",
       "      <td>...</td>\n",
       "    </tr>\n",
       "    <tr>\n",
       "      <th>5199</th>\n",
       "      <td>632</td>\n",
       "      <td>species</td>\n",
       "      <td>k__Bacteria;p__Proteobacteria;c__Gammaproteoba...</td>\n",
       "    </tr>\n",
       "    <tr>\n",
       "      <th>5200</th>\n",
       "      <td>632</td>\n",
       "      <td>species</td>\n",
       "      <td>k__Bacteria;p__Proteobacteria;c__Gammaproteoba...</td>\n",
       "    </tr>\n",
       "    <tr>\n",
       "      <th>5201</th>\n",
       "      <td>632</td>\n",
       "      <td>species</td>\n",
       "      <td>k__Bacteria;p__Proteobacteria;c__Gammaproteoba...</td>\n",
       "    </tr>\n",
       "    <tr>\n",
       "      <th>5202</th>\n",
       "      <td>632</td>\n",
       "      <td>species</td>\n",
       "      <td>k__Bacteria;p__Proteobacteria;c__Gammaproteoba...</td>\n",
       "    </tr>\n",
       "    <tr>\n",
       "      <th>5203</th>\n",
       "      <td>632</td>\n",
       "      <td>species</td>\n",
       "      <td>k__Bacteria;p__Proteobacteria;c__Gammaproteoba...</td>\n",
       "    </tr>\n",
       "  </tbody>\n",
       "</table>\n",
       "<p>5204 rows × 3 columns</p>\n",
       "</div>"
      ],
      "text/plain": [
       "      host_tax_id host_rank                                       host_lineage\n",
       "0            2148   species  k__Bacteria;p__Tenericutes;c__Mollicutes;o__Ac...\n",
       "1            2148   species  k__Bacteria;p__Tenericutes;c__Mollicutes;o__Ac...\n",
       "2           85698   species  k__Bacteria;p__Proteobacteria;c__Betaproteobac...\n",
       "3           85698   species  k__Bacteria;p__Proteobacteria;c__Betaproteobac...\n",
       "4           85698   species  k__Bacteria;p__Proteobacteria;c__Betaproteobac...\n",
       "...           ...       ...                                                ...\n",
       "5199          632   species  k__Bacteria;p__Proteobacteria;c__Gammaproteoba...\n",
       "5200          632   species  k__Bacteria;p__Proteobacteria;c__Gammaproteoba...\n",
       "5201          632   species  k__Bacteria;p__Proteobacteria;c__Gammaproteoba...\n",
       "5202          632   species  k__Bacteria;p__Proteobacteria;c__Gammaproteoba...\n",
       "5203          632   species  k__Bacteria;p__Proteobacteria;c__Gammaproteoba...\n",
       "\n",
       "[5204 rows x 3 columns]"
      ]
     },
     "execution_count": 18,
     "metadata": {},
     "output_type": "execute_result"
    }
   ],
   "source": [
    "\n",
    "df_info=pd.read_table('host_info.tsv',header=None,names=['host_tax_id','host_rank','host_lineage'])\n",
    "df_info"
   ]
  },
  {
   "cell_type": "code",
   "execution_count": 19,
   "metadata": {},
   "outputs": [],
   "source": [
    "df_phage['host_rank'] = df_info['host_rank'].to_list()\n",
    "\n",
    "df_phage['common_lineage'] = df_info['host_lineage'].to_list()\n",
    "df_phage=df_phage.reset_index(drop=True)\n",
    "df_phage.to_csv('virushostdb.daily.phage.tsv', sep='\\t', index=False)\n"
   ]
  },
  {
   "cell_type": "markdown",
   "metadata": {},
   "source": [
    "##  统计信息"
   ]
  },
  {
   "cell_type": "code",
   "execution_count": 20,
   "metadata": {},
   "outputs": [
    {
     "name": "stdout",
     "output_type": "stream",
     "text": [
      "5204\n",
      "841\n",
      "4791\n"
     ]
    }
   ],
   "source": [
    "import pandas as pd\n",
    "\n",
    "df=pd.read_table('virushostdb.daily.phage.tsv')\n",
    "print(len(df))\n",
    "print(len(set(df['host name'])))\n",
    "print(len(set(df['virus name'])))"
   ]
  },
  {
   "cell_type": "code",
   "execution_count": null,
   "metadata": {},
   "outputs": [],
   "source": []
  }
 ],
 "metadata": {
  "interpreter": {
   "hash": "3c3b1f68f84beab8382f21a915ede04862a3ee36b0db72f203c6e0d4c6345b06"
  },
  "kernelspec": {
   "display_name": "Python 3.8.5 ('base')",
   "language": "python",
   "name": "python3"
  },
  "language_info": {
   "codemirror_mode": {
    "name": "ipython",
    "version": 3
   },
   "file_extension": ".py",
   "mimetype": "text/x-python",
   "name": "python",
   "nbconvert_exporter": "python",
   "pygments_lexer": "ipython3",
   "version": "3.8.5"
  },
  "orig_nbformat": 4
 },
 "nbformat": 4,
 "nbformat_minor": 2
}
