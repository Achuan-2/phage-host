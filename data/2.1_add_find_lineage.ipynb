{
 "cells": [
  {
   "cell_type": "code",
   "execution_count": 4,
   "metadata": {},
   "outputs": [],
   "source": [
    "import pandas as pd\n",
    "df2 = pd.read_table(\n",
    "    'virushostdb_output.tsv', sep='\\t')\n",
    "\n",
    "\n",
    "\n",
    "df_findtax = pd.read_table('host_info.tsv', sep='\\t',header=None, dtype=object)\n",
    "# del df2['find_lineage']\n",
    "df_findtax.columns = [ 'find_name','find_taxid', 'find_rank','find_lineage' ]\n",
    "df2['find_taxid'] = df_findtax['find_taxid']\n",
    "df2['find_rank'] = df_findtax['find_rank']\n",
    "df2['find_lineage'] = df_findtax['find_lineage']\n",
    "df2.to_csv('virushostdb_output.tsv', sep='\\t', index=False)\n"
   ]
  }
 ],
 "metadata": {
  "interpreter": {
   "hash": "3c3b1f68f84beab8382f21a915ede04862a3ee36b0db72f203c6e0d4c6345b06"
  },
  "kernelspec": {
   "display_name": "Python 3.8.5 ('base')",
   "language": "python",
   "name": "python3"
  },
  "language_info": {
   "codemirror_mode": {
    "name": "ipython",
    "version": 3
   },
   "file_extension": ".py",
   "mimetype": "text/x-python",
   "name": "python",
   "nbconvert_exporter": "python",
   "pygments_lexer": "ipython3",
   "version": "3.8.5"
  },
  "orig_nbformat": 4
 },
 "nbformat": 4,
 "nbformat_minor": 2
}
