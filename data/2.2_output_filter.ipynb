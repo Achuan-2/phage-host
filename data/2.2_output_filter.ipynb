{
 "cells": [
  {
   "cell_type": "code",
   "execution_count": 7,
   "metadata": {},
   "outputs": [
    {
     "data": {
      "text/plain": [
       "4399"
      ]
     },
     "execution_count": 7,
     "metadata": {},
     "output_type": "execute_result"
    }
   ],
   "source": [
    "import pandas as pd\n",
    "# df1=pd.read_table('host_taxid_rank.tsv',sep='\\t')\n",
    "df2 = pd.read_table('virushostdb_output.tsv', sep='\\t')\n",
    "\n",
    "\n",
    "# df2['find_taxid']=df1['find_taxid']\n",
    "# df2['find_taxrank']=df1['find_taxrank']\n",
    "# df2.to_csv('virushostdb_phage_output.tsv',sep='\\t',index=False)\n",
    "\n",
    "df3 = df2[df2['find_name'] == df2['report_host']]\n",
    "len(df3)\n"
   ]
  },
  {
   "cell_type": "code",
   "execution_count": 2,
   "metadata": {},
   "outputs": [
    {
     "data": {
      "text/plain": [
       "788"
      ]
     },
     "execution_count": 2,
     "metadata": {},
     "output_type": "execute_result"
    }
   ],
   "source": [
    "len(set(df2['report_host']))\n"
   ]
  },
  {
   "cell_type": "code",
   "execution_count": 6,
   "metadata": {},
   "outputs": [
    {
     "data": {
      "text/plain": [
       "788"
      ]
     },
     "execution_count": 6,
     "metadata": {},
     "output_type": "execute_result"
    }
   ],
   "source": [
    "# host name有多少\n",
    "len(set(df2['report_host']))\n",
    "# len(set(df2['find_name']))\n",
    "# len(set(df2['new_gcf']))"
   ]
  },
  {
   "cell_type": "code",
   "execution_count": 8,
   "metadata": {},
   "outputs": [
    {
     "data": {
      "text/plain": [
       "species            3138\n",
       "strain             1106\n",
       "genus               418\n",
       "no rank             242\n",
       "subspecies           77\n",
       "family               13\n",
       "serogroup            11\n",
       "species group         6\n",
       "class                 2\n",
       "order                 1\n",
       "serotype              1\n",
       "isolate               1\n",
       "forma specialis       1\n",
       "Name: find_taxrank, dtype: int64"
      ]
     },
     "execution_count": 8,
     "metadata": {},
     "output_type": "execute_result"
    }
   ],
   "source": [
    "df2['find_taxrank'].value_counts()\n"
   ]
  },
  {
   "cell_type": "code",
   "execution_count": 9,
   "metadata": {},
   "outputs": [],
   "source": [
    "df2 = df2[~(df2['find_taxrank'] == 'genus')]\n",
    "df2 = df2[~(df2['find_taxrank'] == 'family')]\n",
    "df2 = df2[~(df2['find_taxrank'] == 'species group')]\n",
    "df2 = df2[~(df2['find_taxrank'] == 'class')]\n",
    "df2 = df2[~(df2['find_taxrank'] == 'order')]"
   ]
  },
  {
   "cell_type": "code",
   "execution_count": 10,
   "metadata": {},
   "outputs": [
    {
     "data": {
      "text/plain": [
       "species            3138\n",
       "strain             1106\n",
       "no rank             242\n",
       "subspecies           77\n",
       "serogroup            11\n",
       "serotype              1\n",
       "isolate               1\n",
       "forma specialis       1\n",
       "Name: find_taxrank, dtype: int64"
      ]
     },
     "execution_count": 10,
     "metadata": {},
     "output_type": "execute_result"
    }
   ],
   "source": [
    "df2['find_taxrank'].value_counts()\n"
   ]
  },
  {
   "cell_type": "code",
   "execution_count": 11,
   "metadata": {},
   "outputs": [
    {
     "name": "stdout",
     "output_type": "stream",
     "text": [
      "4577\n",
      "602\n",
      "527\n",
      "496\n"
     ]
    }
   ],
   "source": [
    "\n",
    "print(len(df2))\n",
    "print(len(set(df2['report_host'])))\n",
    "print(len(set(df2['find_name'])))\n",
    "print(len(set(df2['new_gcf'])))"
   ]
  },
  {
   "cell_type": "code",
   "execution_count": 12,
   "metadata": {},
   "outputs": [],
   "source": [
    "df2.to_csv('virushostdb_output_filtered.tsv', sep='\\t', index=False)\n"
   ]
  }
 ],
 "metadata": {
  "interpreter": {
   "hash": "3c3b1f68f84beab8382f21a915ede04862a3ee36b0db72f203c6e0d4c6345b06"
  },
  "kernelspec": {
   "display_name": "Python 3.8.5 ('base')",
   "language": "python",
   "name": "python3"
  },
  "language_info": {
   "codemirror_mode": {
    "name": "ipython",
    "version": 3
   },
   "file_extension": ".py",
   "mimetype": "text/x-python",
   "name": "python",
   "nbconvert_exporter": "python",
   "pygments_lexer": "ipython3",
   "version": "3.8.5"
  },
  "orig_nbformat": 4
 },
 "nbformat": 4,
 "nbformat_minor": 2
}
