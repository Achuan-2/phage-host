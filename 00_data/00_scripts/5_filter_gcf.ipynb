{
 "cells": [
  {
   "cell_type": "code",
   "execution_count": 8,
   "metadata": {},
   "outputs": [],
   "source": [
    "import pandas as pd"
   ]
  },
  {
   "cell_type": "code",
   "execution_count": null,
   "metadata": {},
   "outputs": [],
   "source": []
  },
  {
   "cell_type": "markdown",
   "metadata": {},
   "source": [
    "## 给output.tsv添加find物种注释"
   ]
  },
  {
   "cell_type": "code",
   "execution_count": 14,
   "metadata": {},
   "outputs": [],
   "source": [
    "\n",
    "df2 = pd.read_table(\n",
    "    '../virushostdb_output.tsv', sep='\\t')\n",
    "\n",
    "df_findtax = pd.read_table('../lineage/find_info.tsv', sep='\\t',header=None, dtype=object)\n",
    "# del df2['find_lineage']\n",
    "df_findtax.columns = [ 'find_name','find_taxid', 'find_taxrank','find_lineage' ]\n",
    "df2['find_taxid'] = df_findtax['find_taxid']\n",
    "df2['find_taxrank'] = df_findtax['find_taxrank']\n",
    "df2['find_lineage'] = df_findtax['find_lineage']\n",
    "df2.to_csv('../virushostdb_output.tsv', sep='\\t', index=False)"
   ]
  },
  {
   "cell_type": "markdown",
   "metadata": {},
   "source": [
    "## 过滤"
   ]
  },
  {
   "cell_type": "code",
   "execution_count": 15,
   "metadata": {},
   "outputs": [
    {
     "data": {
      "text/plain": [
       "4391"
      ]
     },
     "execution_count": 15,
     "metadata": {},
     "output_type": "execute_result"
    }
   ],
   "source": [
    "df2 = pd.read_table('../virushostdb_output.tsv', sep='\\t')\n",
    "df3 = df2[df2['find_name'] == df2['report_host']]\n",
    "len(df3)"
   ]
  },
  {
   "cell_type": "code",
   "execution_count": 16,
   "metadata": {},
   "outputs": [
    {
     "data": {
      "text/plain": [
       "787"
      ]
     },
     "execution_count": 16,
     "metadata": {},
     "output_type": "execute_result"
    }
   ],
   "source": [
    "len(set(df2['report_host']))"
   ]
  },
  {
   "cell_type": "code",
   "execution_count": 18,
   "metadata": {},
   "outputs": [
    {
     "data": {
      "text/plain": [
       "species            3131\n",
       "strain             1106\n",
       "genus               417\n",
       "no rank             241\n",
       "subspecies           77\n",
       "family               13\n",
       "serogroup            11\n",
       "species group         6\n",
       "class                 2\n",
       "serotype              1\n",
       "isolate               1\n",
       "order                 1\n",
       "forma specialis       1\n",
       "Name: find_taxrank, dtype: int64"
      ]
     },
     "execution_count": 18,
     "metadata": {},
     "output_type": "execute_result"
    }
   ],
   "source": [
    "df2['find_taxrank'].value_counts()"
   ]
  },
  {
   "cell_type": "code",
   "execution_count": 19,
   "metadata": {},
   "outputs": [],
   "source": [
    "df2 = df2[~(df2['find_taxrank'] == 'genus')]\n",
    "df2 = df2[~(df2['find_taxrank'] == 'family')]\n",
    "df2 = df2[~(df2['find_taxrank'] == 'species group')]\n",
    "df2 = df2[~(df2['find_taxrank'] == 'class')]\n",
    "df2 = df2[~(df2['find_taxrank'] == 'order')]"
   ]
  },
  {
   "cell_type": "code",
   "execution_count": 20,
   "metadata": {},
   "outputs": [
    {
     "data": {
      "text/plain": [
       "species            3131\n",
       "strain             1106\n",
       "no rank             241\n",
       "subspecies           77\n",
       "serogroup            11\n",
       "serotype              1\n",
       "isolate               1\n",
       "forma specialis       1\n",
       "Name: find_taxrank, dtype: int64"
      ]
     },
     "execution_count": 20,
     "metadata": {},
     "output_type": "execute_result"
    }
   ],
   "source": [
    "\n",
    "df2['find_taxrank'].value_counts()"
   ]
  },
  {
   "cell_type": "code",
   "execution_count": 21,
   "metadata": {},
   "outputs": [
    {
     "name": "stdout",
     "output_type": "stream",
     "text": [
      "4569\n",
      "601\n",
      "526\n",
      "495\n"
     ]
    }
   ],
   "source": [
    "print(len(df2))\n",
    "print(len(set(df2['report_host'])))\n",
    "print(len(set(df2['find_name'])))\n",
    "print(len(set(df2['new_gcf'])))"
   ]
  },
  {
   "cell_type": "code",
   "execution_count": 23,
   "metadata": {},
   "outputs": [],
   "source": [
    "df2.to_csv('../virushostdb_output(filtered).tsv', sep='\\t', index=False)"
   ]
  }
 ],
 "metadata": {
  "interpreter": {
   "hash": "b8ba321b23f5a67b8cbe61a4c32b22f099624e78022e6bf715d5d003ca83188e"
  },
  "kernelspec": {
   "display_name": "Python 3.8.5 ('base')",
   "language": "python",
   "name": "python3"
  },
  "language_info": {
   "codemirror_mode": {
    "name": "ipython",
    "version": 3
   },
   "file_extension": ".py",
   "mimetype": "text/x-python",
   "name": "python",
   "nbconvert_exporter": "python",
   "pygments_lexer": "ipython3",
   "version": "3.8.5"
  },
  "orig_nbformat": 4
 },
 "nbformat": 4,
 "nbformat_minor": 2
}
