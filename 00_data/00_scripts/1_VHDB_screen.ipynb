{
 "cells": [
  {
   "cell_type": "code",
   "execution_count": 63,
   "metadata": {},
   "outputs": [
    {
     "data": {
      "text/plain": [
       "array(['virus tax id', 'virus name', 'virus lineage', 'refseq id',\n",
       "       'KEGG GENOME', 'KEGG DISEASE', 'DISEASE', 'host tax id',\n",
       "       'host name', 'host lineage', 'pmid', 'evidence', 'sample type',\n",
       "       'source organism'], dtype=object)"
      ]
     },
     "execution_count": 63,
     "metadata": {},
     "output_type": "execute_result"
    }
   ],
   "source": [
    "import pandas as pd\n",
    "df = pd.read_table('../virushostdb.daily.tsv')\n",
    "df.columns.values"
   ]
  },
  {
   "cell_type": "markdown",
   "metadata": {},
   "source": [
    "筛选phage-host条目"
   ]
  },
  {
   "cell_type": "code",
   "execution_count": 64,
   "metadata": {},
   "outputs": [],
   "source": [
    "column_list= ['virus name', 'refseq id', 'virus tax id', 'virus lineage', 'evidence',\n",
    "                'host name', 'host tax id', 'host lineage']\n",
    "\n",
    "df2 = df[column_list].copy()\n",
    "\n",
    "df2.columns = ['virus_name', 'refseq_id', 'virus_taxid', 'virus_lineage', 'evidence',\n",
    "                'host_name', 'host_taxid', 'host_lineage']\n"
   ]
  },
  {
   "cell_type": "code",
   "execution_count": 65,
   "metadata": {},
   "outputs": [],
   "source": [
    "df3 = df2.dropna(axis=0, how='any')\n"
   ]
  },
  {
   "cell_type": "code",
   "execution_count": 66,
   "metadata": {},
   "outputs": [],
   "source": [
    "def select_phage(x):\n",
    "    \"\"\"\n",
    "    Selects phage  from all viruses.\n",
    "    \"\"\"\n",
    "    try:\n",
    "        kingdom = x.split(';')[0].strip()\n",
    "        if kingdom == 'Bacteria' or kingdom == 'Archaea':\n",
    "            return 1\n",
    "        elif kingdom == 'Eukaryota':\n",
    "            return 0\n",
    "    except:\n",
    "        print(x)\n",
    "\n",
    "\n",
    "df_phage = df3[df3['host_lineage'].apply(select_phage) == 1].copy()"
   ]
  },
  {
   "cell_type": "code",
   "execution_count": 67,
   "metadata": {},
   "outputs": [],
   "source": [
    "df_phage['host_taxid'] = df_phage['host_taxid'].astype(int)\n",
    "df_phage.to_csv('../virushostdb.daily.phage.tsv', sep='\\t', index=False)\n"
   ]
  },
  {
   "cell_type": "markdown",
   "metadata": {},
   "source": [
    "发现24个phage有多个id"
   ]
  },
  {
   "cell_type": "code",
   "execution_count": 68,
   "metadata": {},
   "outputs": [],
   "source": [
    "\n",
    "df_phage_multiple=df_phage[df_phage['refseq_id'].str.contains(',')]\n",
    "df_phage_multiple.to_csv('../virushostdb.daily.phage.multiple.tsv', sep='\\t', index=False)"
   ]
  },
  {
   "cell_type": "code",
   "execution_count": 69,
   "metadata": {},
   "outputs": [
    {
     "data": {
      "text/plain": [
       "24"
      ]
     },
     "execution_count": 69,
     "metadata": {},
     "output_type": "execute_result"
    }
   ],
   "source": [
    "len(set(df_phage_multiple['virus_name']))"
   ]
  },
  {
   "cell_type": "markdown",
   "metadata": {},
   "source": [
    "检查后发现只有9个phage不完整，其他的只是同一个名称的不同测序结果，对不完整的phage直接进行删除"
   ]
  },
  {
   "cell_type": "code",
   "execution_count": 70,
   "metadata": {},
   "outputs": [
    {
     "name": "stdout",
     "output_type": "stream",
     "text": [
      "(5204, 8)\n",
      "(5195, 8)\n"
     ]
    }
   ],
   "source": [
    "\n",
    "# 过滤不完整病毒,9个\n",
    "uncompleted_virus = ['Bacillus phage SPG24', 'Pseudomonas phage phi12', 'Pseudomonas phage phi13', \n",
    "'Pseudomonas phage phi2954','Pseudomonas phage phi8', 'Pseudomonas phage phiNN', \n",
    "'Pseudomonas phage phiYY', 'Pseudomonas virus phi6', 'Salmonella phage SP069']\n",
    "\n",
    "df_completed = df_phage[~df_phage['virus_name'].isin(uncompleted_virus)]\n",
    "print(df_phage.shape)\n",
    "print(df_completed.shape)\n",
    "df_phage=df_completed.copy()"
   ]
  },
  {
   "cell_type": "code",
   "execution_count": 71,
   "metadata": {},
   "outputs": [],
   "source": [
    "# 保存\n",
    "df_phage.to_csv('../virushostdb.daily.phage.tsv', sep='\\t', index=False)\n"
   ]
  },
  {
   "cell_type": "markdown",
   "metadata": {},
   "source": [
    "VHDB phage name有重复的是因为一个phage可能记录了多个host"
   ]
  },
  {
   "cell_type": "code",
   "execution_count": 72,
   "metadata": {},
   "outputs": [
    {
     "data": {
      "text/plain": [
       "Salmonella phage OSY-STA           14\n",
       "Enterobacteria phage PRD1           8\n",
       "Bacillus phage vB_BsuM-Goe3         8\n",
       "Bacillus phage SerPounce            7\n",
       "Bacillus phage BPS10C               6\n",
       "                                   ..\n",
       "Lactococcus phage bIL311            1\n",
       "Haloferax virus HF1                 1\n",
       "Mycobacterium phage Magnar          1\n",
       "Propionibacterium phage Anatole     1\n",
       "Listeria phage LP-030-2             1\n",
       "Name: virus_name, Length: 4782, dtype: int64"
      ]
     },
     "execution_count": 72,
     "metadata": {},
     "output_type": "execute_result"
    }
   ],
   "source": [
    "df_phage['virus_name'].value_counts()\n"
   ]
  },
  {
   "cell_type": "markdown",
   "metadata": {},
   "source": [
    "## 添加 tax lineage信息\n",
    "根据host taxid生成tax lineage信息，只保留界门纲目科属种，如果不在有缺失则用上一级+unclassified"
   ]
  },
  {
   "cell_type": "code",
   "execution_count": 73,
   "metadata": {},
   "outputs": [],
   "source": [
    "# cd ../\n",
    "# mkdir -p temp/ lineage/\n",
    "# !cut -f 7 virushostdb.daily.phage.tsv > temp/taxid.tsv\n",
    "# !cat temp/taxid.tsv | taxonkit lineage | taxonkit reformat -f \"{k}\\t{p}\\t{c}\\t{o}\\t{f}\\t{g}\\t{s}\\t{t}\" -P  | cut -f 3- |  tr '\\t' ';' | tee temp/lineage.tsv\n",
    "\n",
    "# !cat temp/taxid.tsv | taxonkit lineage -r -L | tee temp/rank.tsv\n",
    "# !paste temp/rank.tsv temp/lineage.tsv | tail -n+2 > lineage/lineage_host.tsv\n",
    "# !rm temp/taxid.tsv temp/lineage.tsv temp/rank.tsv\n"
   ]
  },
  {
   "cell_type": "markdown",
   "metadata": {},
   "source": [
    "根据virus taxid生成界门纲目科属种的物种注释"
   ]
  },
  {
   "cell_type": "code",
   "execution_count": 74,
   "metadata": {},
   "outputs": [],
   "source": [
    "# !cut -f 3 virushostdb.daily.phage.tsv > temp/taxid.tsv\n",
    "# !cat temp/taxid.tsv | taxonkit lineage | taxonkit reformat -f \"{k}\\t{p}\\t{c}\\t{o}\\t{f}\\t{g}\\t{s}\\t{t}\" -P  | cut -f 3- |  tr '\\t' ';' | tee lineage/lineage_virus.tsv\n",
    "\n",
    "\n"
   ]
  },
  {
   "cell_type": "code",
   "execution_count": 77,
   "metadata": {},
   "outputs": [
    {
     "data": {
      "text/html": [
       "<div>\n",
       "<style scoped>\n",
       "    .dataframe tbody tr th:only-of-type {\n",
       "        vertical-align: middle;\n",
       "    }\n",
       "\n",
       "    .dataframe tbody tr th {\n",
       "        vertical-align: top;\n",
       "    }\n",
       "\n",
       "    .dataframe thead th {\n",
       "        text-align: right;\n",
       "    }\n",
       "</style>\n",
       "<table border=\"1\" class=\"dataframe\">\n",
       "  <thead>\n",
       "    <tr style=\"text-align: right;\">\n",
       "      <th></th>\n",
       "      <th>host_taxid</th>\n",
       "      <th>host_rank</th>\n",
       "      <th>host_lineage</th>\n",
       "    </tr>\n",
       "  </thead>\n",
       "  <tbody>\n",
       "    <tr>\n",
       "      <th>0</th>\n",
       "      <td>2148</td>\n",
       "      <td>species</td>\n",
       "      <td>k__Bacteria;p__Tenericutes;c__Mollicutes;o__Ac...</td>\n",
       "    </tr>\n",
       "    <tr>\n",
       "      <th>1</th>\n",
       "      <td>2148</td>\n",
       "      <td>species</td>\n",
       "      <td>k__Bacteria;p__Tenericutes;c__Mollicutes;o__Ac...</td>\n",
       "    </tr>\n",
       "    <tr>\n",
       "      <th>2</th>\n",
       "      <td>85698</td>\n",
       "      <td>species</td>\n",
       "      <td>k__Bacteria;p__Proteobacteria;c__Betaproteobac...</td>\n",
       "    </tr>\n",
       "    <tr>\n",
       "      <th>3</th>\n",
       "      <td>85698</td>\n",
       "      <td>species</td>\n",
       "      <td>k__Bacteria;p__Proteobacteria;c__Betaproteobac...</td>\n",
       "    </tr>\n",
       "    <tr>\n",
       "      <th>4</th>\n",
       "      <td>85698</td>\n",
       "      <td>species</td>\n",
       "      <td>k__Bacteria;p__Proteobacteria;c__Betaproteobac...</td>\n",
       "    </tr>\n",
       "    <tr>\n",
       "      <th>...</th>\n",
       "      <td>...</td>\n",
       "      <td>...</td>\n",
       "      <td>...</td>\n",
       "    </tr>\n",
       "    <tr>\n",
       "      <th>5190</th>\n",
       "      <td>632</td>\n",
       "      <td>species</td>\n",
       "      <td>k__Bacteria;p__Proteobacteria;c__Gammaproteoba...</td>\n",
       "    </tr>\n",
       "    <tr>\n",
       "      <th>5191</th>\n",
       "      <td>632</td>\n",
       "      <td>species</td>\n",
       "      <td>k__Bacteria;p__Proteobacteria;c__Gammaproteoba...</td>\n",
       "    </tr>\n",
       "    <tr>\n",
       "      <th>5192</th>\n",
       "      <td>632</td>\n",
       "      <td>species</td>\n",
       "      <td>k__Bacteria;p__Proteobacteria;c__Gammaproteoba...</td>\n",
       "    </tr>\n",
       "    <tr>\n",
       "      <th>5193</th>\n",
       "      <td>632</td>\n",
       "      <td>species</td>\n",
       "      <td>k__Bacteria;p__Proteobacteria;c__Gammaproteoba...</td>\n",
       "    </tr>\n",
       "    <tr>\n",
       "      <th>5194</th>\n",
       "      <td>632</td>\n",
       "      <td>species</td>\n",
       "      <td>k__Bacteria;p__Proteobacteria;c__Gammaproteoba...</td>\n",
       "    </tr>\n",
       "  </tbody>\n",
       "</table>\n",
       "<p>5195 rows × 3 columns</p>\n",
       "</div>"
      ],
      "text/plain": [
       "      host_taxid host_rank                                       host_lineage\n",
       "0           2148   species  k__Bacteria;p__Tenericutes;c__Mollicutes;o__Ac...\n",
       "1           2148   species  k__Bacteria;p__Tenericutes;c__Mollicutes;o__Ac...\n",
       "2          85698   species  k__Bacteria;p__Proteobacteria;c__Betaproteobac...\n",
       "3          85698   species  k__Bacteria;p__Proteobacteria;c__Betaproteobac...\n",
       "4          85698   species  k__Bacteria;p__Proteobacteria;c__Betaproteobac...\n",
       "...          ...       ...                                                ...\n",
       "5190         632   species  k__Bacteria;p__Proteobacteria;c__Gammaproteoba...\n",
       "5191         632   species  k__Bacteria;p__Proteobacteria;c__Gammaproteoba...\n",
       "5192         632   species  k__Bacteria;p__Proteobacteria;c__Gammaproteoba...\n",
       "5193         632   species  k__Bacteria;p__Proteobacteria;c__Gammaproteoba...\n",
       "5194         632   species  k__Bacteria;p__Proteobacteria;c__Gammaproteoba...\n",
       "\n",
       "[5195 rows x 3 columns]"
      ]
     },
     "execution_count": 77,
     "metadata": {},
     "output_type": "execute_result"
    }
   ],
   "source": [
    "lineage_host = pd.read_table('../lineage/lineage_host.tsv', header=None,\n",
    "                        names=['host_taxid', 'host_rank', 'host_lineage'])\n",
    "lineage_host"
   ]
  },
  {
   "cell_type": "code",
   "execution_count": 78,
   "metadata": {},
   "outputs": [
    {
     "data": {
      "text/html": [
       "<div>\n",
       "<style scoped>\n",
       "    .dataframe tbody tr th:only-of-type {\n",
       "        vertical-align: middle;\n",
       "    }\n",
       "\n",
       "    .dataframe tbody tr th {\n",
       "        vertical-align: top;\n",
       "    }\n",
       "\n",
       "    .dataframe thead th {\n",
       "        text-align: right;\n",
       "    }\n",
       "</style>\n",
       "<table border=\"1\" class=\"dataframe\">\n",
       "  <thead>\n",
       "    <tr style=\"text-align: right;\">\n",
       "      <th></th>\n",
       "      <th>virus_lineage</th>\n",
       "    </tr>\n",
       "  </thead>\n",
       "  <tbody>\n",
       "    <tr>\n",
       "      <th>0</th>\n",
       "      <td>k__Viruses;p__Hofneiviricota;c__Faserviricetes...</td>\n",
       "    </tr>\n",
       "    <tr>\n",
       "      <th>1</th>\n",
       "      <td>k__Viruses;p__;c__;o__;f__Plasmaviridae;g__Pla...</td>\n",
       "    </tr>\n",
       "    <tr>\n",
       "      <th>2</th>\n",
       "      <td>k__Viruses;p__Uroviricota;c__Caudoviricetes;o_...</td>\n",
       "    </tr>\n",
       "    <tr>\n",
       "      <th>3</th>\n",
       "      <td>k__Viruses;p__Uroviricota;c__Caudoviricetes;o_...</td>\n",
       "    </tr>\n",
       "    <tr>\n",
       "      <th>4</th>\n",
       "      <td>k__Viruses;p__Uroviricota;c__Caudoviricetes;o_...</td>\n",
       "    </tr>\n",
       "    <tr>\n",
       "      <th>...</th>\n",
       "      <td>...</td>\n",
       "    </tr>\n",
       "    <tr>\n",
       "      <th>5190</th>\n",
       "      <td>k__Viruses;p__Uroviricota;c__Caudoviricetes;o_...</td>\n",
       "    </tr>\n",
       "    <tr>\n",
       "      <th>5191</th>\n",
       "      <td>k__Viruses;p__Uroviricota;c__Caudoviricetes;o_...</td>\n",
       "    </tr>\n",
       "    <tr>\n",
       "      <th>5192</th>\n",
       "      <td>k__Viruses;p__Uroviricota;c__Caudoviricetes;o_...</td>\n",
       "    </tr>\n",
       "    <tr>\n",
       "      <th>5193</th>\n",
       "      <td>k__Viruses;p__Uroviricota;c__Caudoviricetes;o_...</td>\n",
       "    </tr>\n",
       "    <tr>\n",
       "      <th>5194</th>\n",
       "      <td>k__Viruses;p__Uroviricota;c__Caudoviricetes;o_...</td>\n",
       "    </tr>\n",
       "  </tbody>\n",
       "</table>\n",
       "<p>5195 rows × 1 columns</p>\n",
       "</div>"
      ],
      "text/plain": [
       "                                          virus_lineage\n",
       "0     k__Viruses;p__Hofneiviricota;c__Faserviricetes...\n",
       "1     k__Viruses;p__;c__;o__;f__Plasmaviridae;g__Pla...\n",
       "2     k__Viruses;p__Uroviricota;c__Caudoviricetes;o_...\n",
       "3     k__Viruses;p__Uroviricota;c__Caudoviricetes;o_...\n",
       "4     k__Viruses;p__Uroviricota;c__Caudoviricetes;o_...\n",
       "...                                                 ...\n",
       "5190  k__Viruses;p__Uroviricota;c__Caudoviricetes;o_...\n",
       "5191  k__Viruses;p__Uroviricota;c__Caudoviricetes;o_...\n",
       "5192  k__Viruses;p__Uroviricota;c__Caudoviricetes;o_...\n",
       "5193  k__Viruses;p__Uroviricota;c__Caudoviricetes;o_...\n",
       "5194  k__Viruses;p__Uroviricota;c__Caudoviricetes;o_...\n",
       "\n",
       "[5195 rows x 1 columns]"
      ]
     },
     "execution_count": 78,
     "metadata": {},
     "output_type": "execute_result"
    }
   ],
   "source": [
    "lineage_virus = pd.read_table('../lineage/lineage_virus.tsv', header=None,\n",
    "                             names=['virus_lineage'])\n",
    "lineage_virus\n"
   ]
  },
  {
   "cell_type": "code",
   "execution_count": 79,
   "metadata": {},
   "outputs": [],
   "source": [
    "df_phage['host_rank'] = lineage_host['host_rank'].to_list()\n",
    "\n",
    "df_phage['host_lineage'] =lineage_host['host_lineage'].to_list()\n",
    "df_phage['virus_lineage'] = lineage_virus['virus_lineage'].to_list()\n",
    "df_phage=df_phage.reset_index(drop=True)\n",
    "df_phage.to_csv('../virushostdb.daily.phage.tsv', sep='\\t', index=False)\n"
   ]
  },
  {
   "cell_type": "code",
   "execution_count": 80,
   "metadata": {},
   "outputs": [
    {
     "data": {
      "text/html": [
       "<div>\n",
       "<style scoped>\n",
       "    .dataframe tbody tr th:only-of-type {\n",
       "        vertical-align: middle;\n",
       "    }\n",
       "\n",
       "    .dataframe tbody tr th {\n",
       "        vertical-align: top;\n",
       "    }\n",
       "\n",
       "    .dataframe thead th {\n",
       "        text-align: right;\n",
       "    }\n",
       "</style>\n",
       "<table border=\"1\" class=\"dataframe\">\n",
       "  <thead>\n",
       "    <tr style=\"text-align: right;\">\n",
       "      <th></th>\n",
       "      <th>virus_name</th>\n",
       "      <th>refseq_id</th>\n",
       "      <th>virus_taxid</th>\n",
       "      <th>virus_lineage</th>\n",
       "      <th>evidence</th>\n",
       "      <th>host_name</th>\n",
       "      <th>host_taxid</th>\n",
       "      <th>host_lineage</th>\n",
       "      <th>host_rank</th>\n",
       "    </tr>\n",
       "  </thead>\n",
       "  <tbody>\n",
       "    <tr>\n",
       "      <th>0</th>\n",
       "      <td>Acholeplasma phage MV-L51</td>\n",
       "      <td>NC_001341</td>\n",
       "      <td>1977403</td>\n",
       "      <td>k__Viruses;p__Hofneiviricota;c__Faserviricetes...</td>\n",
       "      <td>Literature, RefSeq</td>\n",
       "      <td>Acholeplasma laidlawii</td>\n",
       "      <td>2148</td>\n",
       "      <td>k__Bacteria;p__Tenericutes;c__Mollicutes;o__Ac...</td>\n",
       "      <td>species</td>\n",
       "    </tr>\n",
       "    <tr>\n",
       "      <th>1</th>\n",
       "      <td>Acholeplasma virus L2</td>\n",
       "      <td>NC_001447</td>\n",
       "      <td>46014</td>\n",
       "      <td>k__Viruses;p__;c__;o__;f__Plasmaviridae;g__Pla...</td>\n",
       "      <td>Literature, NCBI Virus, RefSeq</td>\n",
       "      <td>Acholeplasma laidlawii</td>\n",
       "      <td>2148</td>\n",
       "      <td>k__Bacteria;p__Tenericutes;c__Mollicutes;o__Ac...</td>\n",
       "      <td>species</td>\n",
       "    </tr>\n",
       "    <tr>\n",
       "      <th>2</th>\n",
       "      <td>Achromobacter phage 83-24</td>\n",
       "      <td>NC_028834</td>\n",
       "      <td>1589747</td>\n",
       "      <td>k__Viruses;p__Uroviricota;c__Caudoviricetes;o_...</td>\n",
       "      <td>Literature, RefSeq</td>\n",
       "      <td>Achromobacter xylosoxidans</td>\n",
       "      <td>85698</td>\n",
       "      <td>k__Bacteria;p__Proteobacteria;c__Betaproteobac...</td>\n",
       "      <td>species</td>\n",
       "    </tr>\n",
       "    <tr>\n",
       "      <th>3</th>\n",
       "      <td>Achromobacter phage JWAlpha</td>\n",
       "      <td>NC_023556</td>\n",
       "      <td>1416009</td>\n",
       "      <td>k__Viruses;p__Uroviricota;c__Caudoviricetes;o_...</td>\n",
       "      <td>Literature, RefSeq</td>\n",
       "      <td>Achromobacter xylosoxidans</td>\n",
       "      <td>85698</td>\n",
       "      <td>k__Bacteria;p__Proteobacteria;c__Betaproteobac...</td>\n",
       "      <td>species</td>\n",
       "    </tr>\n",
       "    <tr>\n",
       "      <th>4</th>\n",
       "      <td>Achromobacter phage JWDelta</td>\n",
       "      <td>KF787094</td>\n",
       "      <td>1416008</td>\n",
       "      <td>k__Viruses;p__Uroviricota;c__Caudoviricetes;o_...</td>\n",
       "      <td>Literature, NCBI Virus, RefSeq</td>\n",
       "      <td>Achromobacter xylosoxidans</td>\n",
       "      <td>85698</td>\n",
       "      <td>k__Bacteria;p__Proteobacteria;c__Betaproteobac...</td>\n",
       "      <td>species</td>\n",
       "    </tr>\n",
       "    <tr>\n",
       "      <th>...</th>\n",
       "      <td>...</td>\n",
       "      <td>...</td>\n",
       "      <td>...</td>\n",
       "      <td>...</td>\n",
       "      <td>...</td>\n",
       "      <td>...</td>\n",
       "      <td>...</td>\n",
       "      <td>...</td>\n",
       "      <td>...</td>\n",
       "    </tr>\n",
       "    <tr>\n",
       "      <th>5190</th>\n",
       "      <td>Yersinia phage YpP-G</td>\n",
       "      <td>JQ965702</td>\n",
       "      <td>1176764</td>\n",
       "      <td>k__Viruses;p__Uroviricota;c__Caudoviricetes;o_...</td>\n",
       "      <td>Literature, NCBI Virus, RefSeq</td>\n",
       "      <td>Yersinia pestis</td>\n",
       "      <td>632</td>\n",
       "      <td>k__Bacteria;p__Proteobacteria;c__Gammaproteoba...</td>\n",
       "      <td>species</td>\n",
       "    </tr>\n",
       "    <tr>\n",
       "      <th>5191</th>\n",
       "      <td>Yersinia phage YpP-R</td>\n",
       "      <td>JQ965701</td>\n",
       "      <td>1176765</td>\n",
       "      <td>k__Viruses;p__Uroviricota;c__Caudoviricetes;o_...</td>\n",
       "      <td>Literature, NCBI Virus, RefSeq</td>\n",
       "      <td>Yersinia pestis</td>\n",
       "      <td>632</td>\n",
       "      <td>k__Bacteria;p__Proteobacteria;c__Gammaproteoba...</td>\n",
       "      <td>species</td>\n",
       "    </tr>\n",
       "    <tr>\n",
       "      <th>5192</th>\n",
       "      <td>Yersinia phage YpP-Y</td>\n",
       "      <td>NC_047939</td>\n",
       "      <td>1176766</td>\n",
       "      <td>k__Viruses;p__Uroviricota;c__Caudoviricetes;o_...</td>\n",
       "      <td>RefSeq</td>\n",
       "      <td>Yersinia pestis</td>\n",
       "      <td>632</td>\n",
       "      <td>k__Bacteria;p__Proteobacteria;c__Gammaproteoba...</td>\n",
       "      <td>species</td>\n",
       "    </tr>\n",
       "    <tr>\n",
       "      <th>5193</th>\n",
       "      <td>Yersinia phage YpsP-G</td>\n",
       "      <td>NC_047940</td>\n",
       "      <td>1176767</td>\n",
       "      <td>k__Viruses;p__Uroviricota;c__Caudoviricetes;o_...</td>\n",
       "      <td>RefSeq</td>\n",
       "      <td>Yersinia pestis</td>\n",
       "      <td>632</td>\n",
       "      <td>k__Bacteria;p__Proteobacteria;c__Gammaproteoba...</td>\n",
       "      <td>species</td>\n",
       "    </tr>\n",
       "    <tr>\n",
       "      <th>5194</th>\n",
       "      <td>Yersinia virus L413C</td>\n",
       "      <td>NC_004745</td>\n",
       "      <td>227940</td>\n",
       "      <td>k__Viruses;p__Uroviricota;c__Caudoviricetes;o_...</td>\n",
       "      <td>NCBI Virus, RefSeq</td>\n",
       "      <td>Yersinia pestis</td>\n",
       "      <td>632</td>\n",
       "      <td>k__Bacteria;p__Proteobacteria;c__Gammaproteoba...</td>\n",
       "      <td>species</td>\n",
       "    </tr>\n",
       "  </tbody>\n",
       "</table>\n",
       "<p>5195 rows × 9 columns</p>\n",
       "</div>"
      ],
      "text/plain": [
       "                       virus_name  refseq_id  virus_taxid  \\\n",
       "0       Acholeplasma phage MV-L51  NC_001341      1977403   \n",
       "1           Acholeplasma virus L2  NC_001447        46014   \n",
       "2       Achromobacter phage 83-24  NC_028834      1589747   \n",
       "3     Achromobacter phage JWAlpha  NC_023556      1416009   \n",
       "4     Achromobacter phage JWDelta   KF787094      1416008   \n",
       "...                           ...        ...          ...   \n",
       "5190         Yersinia phage YpP-G   JQ965702      1176764   \n",
       "5191         Yersinia phage YpP-R   JQ965701      1176765   \n",
       "5192         Yersinia phage YpP-Y  NC_047939      1176766   \n",
       "5193        Yersinia phage YpsP-G  NC_047940      1176767   \n",
       "5194         Yersinia virus L413C  NC_004745       227940   \n",
       "\n",
       "                                          virus_lineage  \\\n",
       "0     k__Viruses;p__Hofneiviricota;c__Faserviricetes...   \n",
       "1     k__Viruses;p__;c__;o__;f__Plasmaviridae;g__Pla...   \n",
       "2     k__Viruses;p__Uroviricota;c__Caudoviricetes;o_...   \n",
       "3     k__Viruses;p__Uroviricota;c__Caudoviricetes;o_...   \n",
       "4     k__Viruses;p__Uroviricota;c__Caudoviricetes;o_...   \n",
       "...                                                 ...   \n",
       "5190  k__Viruses;p__Uroviricota;c__Caudoviricetes;o_...   \n",
       "5191  k__Viruses;p__Uroviricota;c__Caudoviricetes;o_...   \n",
       "5192  k__Viruses;p__Uroviricota;c__Caudoviricetes;o_...   \n",
       "5193  k__Viruses;p__Uroviricota;c__Caudoviricetes;o_...   \n",
       "5194  k__Viruses;p__Uroviricota;c__Caudoviricetes;o_...   \n",
       "\n",
       "                            evidence                   host_name  host_taxid  \\\n",
       "0                 Literature, RefSeq      Acholeplasma laidlawii        2148   \n",
       "1     Literature, NCBI Virus, RefSeq      Acholeplasma laidlawii        2148   \n",
       "2                 Literature, RefSeq  Achromobacter xylosoxidans       85698   \n",
       "3                 Literature, RefSeq  Achromobacter xylosoxidans       85698   \n",
       "4     Literature, NCBI Virus, RefSeq  Achromobacter xylosoxidans       85698   \n",
       "...                              ...                         ...         ...   \n",
       "5190  Literature, NCBI Virus, RefSeq             Yersinia pestis         632   \n",
       "5191  Literature, NCBI Virus, RefSeq             Yersinia pestis         632   \n",
       "5192                          RefSeq             Yersinia pestis         632   \n",
       "5193                          RefSeq             Yersinia pestis         632   \n",
       "5194              NCBI Virus, RefSeq             Yersinia pestis         632   \n",
       "\n",
       "                                           host_lineage host_rank  \n",
       "0     k__Bacteria;p__Tenericutes;c__Mollicutes;o__Ac...   species  \n",
       "1     k__Bacteria;p__Tenericutes;c__Mollicutes;o__Ac...   species  \n",
       "2     k__Bacteria;p__Proteobacteria;c__Betaproteobac...   species  \n",
       "3     k__Bacteria;p__Proteobacteria;c__Betaproteobac...   species  \n",
       "4     k__Bacteria;p__Proteobacteria;c__Betaproteobac...   species  \n",
       "...                                                 ...       ...  \n",
       "5190  k__Bacteria;p__Proteobacteria;c__Gammaproteoba...   species  \n",
       "5191  k__Bacteria;p__Proteobacteria;c__Gammaproteoba...   species  \n",
       "5192  k__Bacteria;p__Proteobacteria;c__Gammaproteoba...   species  \n",
       "5193  k__Bacteria;p__Proteobacteria;c__Gammaproteoba...   species  \n",
       "5194  k__Bacteria;p__Proteobacteria;c__Gammaproteoba...   species  \n",
       "\n",
       "[5195 rows x 9 columns]"
      ]
     },
     "execution_count": 80,
     "metadata": {},
     "output_type": "execute_result"
    }
   ],
   "source": [
    "df_phage\n"
   ]
  },
  {
   "cell_type": "code",
   "execution_count": 81,
   "metadata": {},
   "outputs": [
    {
     "data": {
      "text/plain": [
       "species            3395\n",
       "strain             1201\n",
       "no rank             250\n",
       "genus               158\n",
       "serotype             72\n",
       "subspecies           70\n",
       "serogroup            20\n",
       "order                12\n",
       "family                7\n",
       "superkingdom          4\n",
       "species group         3\n",
       "forma specialis       1\n",
       "isolate               1\n",
       "class                 1\n",
       "Name: host_rank, dtype: int64"
      ]
     },
     "execution_count": 81,
     "metadata": {},
     "output_type": "execute_result"
    }
   ],
   "source": [
    "df_phage['host_rank'].value_counts()"
   ]
  },
  {
   "cell_type": "code",
   "execution_count": 92,
   "metadata": {},
   "outputs": [],
   "source": [
    "## 过滤宿主名有问题的两个\n",
    "#{'bacterium', 'unidentified bacterial endosymbiont'}\n",
    "unidentified_host = ['bacterium', 'unidentified bacterial endosymbiont']\n",
    "\n",
    "df_phage = df_phage[~df_phage['host_name'].isin(unidentified_host)]\n",
    "df_phage.to_csv('../virushostdb.daily.phage.tsv',\n",
    "                   sep='\\t', index=False)\n"
   ]
  },
  {
   "cell_type": "code",
   "execution_count": 93,
   "metadata": {},
   "outputs": [
    {
     "name": "stdout",
     "output_type": "stream",
     "text": [
      "(5193, 9)\n",
      "(5008, 9)\n"
     ]
    }
   ],
   "source": [
    "# 过滤不完整病毒,9个\n",
    "under_species = ['species', 'strain', 'no rank',\n",
    "                'serotype', 'subspecies', 'serogroup',\n",
    "                'forma specialis', 'isolate']\n",
    "\n",
    "df_filtered = df_phage[df_phage['host_rank'].isin(under_species)]\n",
    "print(df_phage.shape)\n",
    "print(df_filtered.shape)\n",
    "df_filtered.to_csv('../virushostdb.daily.phage(filtered).tsv',\n",
    "                sep='\\t', index=False)\n"
   ]
  },
  {
   "cell_type": "code",
   "execution_count": 89,
   "metadata": {},
   "outputs": [],
   "source": [
    "\n"
   ]
  },
  {
   "cell_type": "markdown",
   "metadata": {},
   "source": [
    "##  统计信息"
   ]
  },
  {
   "cell_type": "code",
   "execution_count": 94,
   "metadata": {},
   "outputs": [
    {
     "name": "stdout",
     "output_type": "stream",
     "text": [
      "5193\n",
      "838\n",
      "4781\n"
     ]
    }
   ],
   "source": [
    "print(len(df_phage))\n",
    "print(len(set(df_phage['host_name'])))\n",
    "print(len(set(df_phage['virus_name'])))"
   ]
  },
  {
   "cell_type": "code",
   "execution_count": 95,
   "metadata": {},
   "outputs": [
    {
     "name": "stdout",
     "output_type": "stream",
     "text": [
      "5008\n",
      "787\n",
      "4675\n"
     ]
    }
   ],
   "source": [
    "print(len(df_filtered))\n",
    "print(len(set(df_filtered['host_name'])))\n",
    "print(len(set(df_filtered['virus_name'])))\n"
   ]
  }
 ],
 "metadata": {
  "interpreter": {
   "hash": "b8ba321b23f5a67b8cbe61a4c32b22f099624e78022e6bf715d5d003ca83188e"
  },
  "kernelspec": {
   "display_name": "Python 3.8.5 ('base')",
   "language": "python",
   "name": "python3"
  },
  "language_info": {
   "codemirror_mode": {
    "name": "ipython",
    "version": 3
   },
   "file_extension": ".py",
   "mimetype": "text/x-python",
   "name": "python",
   "nbconvert_exporter": "python",
   "pygments_lexer": "ipython3",
   "version": "3.8.5"
  },
  "orig_nbformat": 4
 },
 "nbformat": 4,
 "nbformat_minor": 2
}
